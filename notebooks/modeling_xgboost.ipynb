{
 "cells": [
  {
   "cell_type": "markdown",
   "metadata": {},
   "source": [
    "## Model Building, Training, Evaluation, and Predictions - Final Part"
   ]
  },
  {
   "cell_type": "code",
   "execution_count": 1,
   "metadata": {},
   "outputs": [],
   "source": [
    "import pandas as pd\n",
    "import seaborn as sns\n",
    "import numpy as np\n",
    "import matplotlib.pyplot as plt\n",
    "\n",
    "from sklearn.model_selection import train_test_split, RandomizedSearchCV, GridSearchCV\n",
    "from sklearn.preprocessing import StandardScaler\n",
    "from sklearn.metrics import f1_score, classification_report, confusion_matrix, accuracy_score\n",
    "from sklearn.ensemble import RandomForestClassifier\n",
    "from sklearn.impute import SimpleImputer\n",
    "\n",
    "from xgboost import XGBClassifier\n"
   ]
  },
  {
   "cell_type": "code",
   "execution_count": 2,
   "metadata": {},
   "outputs": [
    {
     "data": {
      "text/html": [
       "<div>\n",
       "<style scoped>\n",
       "    .dataframe tbody tr th:only-of-type {\n",
       "        vertical-align: middle;\n",
       "    }\n",
       "\n",
       "    .dataframe tbody tr th {\n",
       "        vertical-align: top;\n",
       "    }\n",
       "\n",
       "    .dataframe thead th {\n",
       "        text-align: right;\n",
       "    }\n",
       "</style>\n",
       "<table border=\"1\" class=\"dataframe\">\n",
       "  <thead>\n",
       "    <tr style=\"text-align: right;\">\n",
       "      <th></th>\n",
       "      <th>mean_consumption</th>\n",
       "      <th>std_consumption</th>\n",
       "      <th>sum_consumption</th>\n",
       "      <th>median_consumption</th>\n",
       "      <th>max_consumption</th>\n",
       "      <th>min_consumption</th>\n",
       "      <th>count_valid_days</th>\n",
       "      <th>mean_daily_diff</th>\n",
       "      <th>lag_1</th>\n",
       "      <th>lag_7</th>\n",
       "      <th>...</th>\n",
       "      <th>monthly_avg_2016_05</th>\n",
       "      <th>monthly_avg_2016_06</th>\n",
       "      <th>monthly_avg_2016_07</th>\n",
       "      <th>monthly_avg_2016_08</th>\n",
       "      <th>monthly_avg_2016_09</th>\n",
       "      <th>monthly_avg_2016_10</th>\n",
       "      <th>num_z_outliers</th>\n",
       "      <th>mean_rolling_deviation</th>\n",
       "      <th>num_iqr_outliers</th>\n",
       "      <th>FLAG</th>\n",
       "    </tr>\n",
       "  </thead>\n",
       "  <tbody>\n",
       "    <tr>\n",
       "      <th>0</th>\n",
       "      <td>0.947796</td>\n",
       "      <td>3.101514</td>\n",
       "      <td>976.230000</td>\n",
       "      <td>0.0000</td>\n",
       "      <td>18.29</td>\n",
       "      <td>0.0</td>\n",
       "      <td>1030</td>\n",
       "      <td>0.223178</td>\n",
       "      <td>0.70</td>\n",
       "      <td>0.020</td>\n",
       "      <td>...</td>\n",
       "      <td>0.000000</td>\n",
       "      <td>0.000000</td>\n",
       "      <td>0.024839</td>\n",
       "      <td>0.108065</td>\n",
       "      <td>0.088621</td>\n",
       "      <td>0.349355</td>\n",
       "      <td>47</td>\n",
       "      <td>0.248229</td>\n",
       "      <td>168</td>\n",
       "      <td>1</td>\n",
       "    </tr>\n",
       "    <tr>\n",
       "      <th>1</th>\n",
       "      <td>4.348694</td>\n",
       "      <td>6.844979</td>\n",
       "      <td>4479.155000</td>\n",
       "      <td>0.9875</td>\n",
       "      <td>44.57</td>\n",
       "      <td>0.0</td>\n",
       "      <td>1030</td>\n",
       "      <td>0.833226</td>\n",
       "      <td>13.94</td>\n",
       "      <td>17.130</td>\n",
       "      <td>...</td>\n",
       "      <td>9.023871</td>\n",
       "      <td>16.486000</td>\n",
       "      <td>17.684194</td>\n",
       "      <td>14.475484</td>\n",
       "      <td>22.908103</td>\n",
       "      <td>16.703871</td>\n",
       "      <td>14</td>\n",
       "      <td>0.978513</td>\n",
       "      <td>149</td>\n",
       "      <td>1</td>\n",
       "    </tr>\n",
       "    <tr>\n",
       "      <th>2</th>\n",
       "      <td>6.304235</td>\n",
       "      <td>9.416844</td>\n",
       "      <td>6493.361667</td>\n",
       "      <td>2.3900</td>\n",
       "      <td>79.71</td>\n",
       "      <td>0.0</td>\n",
       "      <td>1030</td>\n",
       "      <td>2.723158</td>\n",
       "      <td>1.88</td>\n",
       "      <td>19.055</td>\n",
       "      <td>...</td>\n",
       "      <td>6.205161</td>\n",
       "      <td>12.153000</td>\n",
       "      <td>15.704839</td>\n",
       "      <td>14.458710</td>\n",
       "      <td>7.842816</td>\n",
       "      <td>13.315323</td>\n",
       "      <td>22</td>\n",
       "      <td>3.367538</td>\n",
       "      <td>36</td>\n",
       "      <td>1</td>\n",
       "    </tr>\n",
       "    <tr>\n",
       "      <th>3</th>\n",
       "      <td>4.215524</td>\n",
       "      <td>10.180330</td>\n",
       "      <td>4341.990000</td>\n",
       "      <td>0.0000</td>\n",
       "      <td>106.22</td>\n",
       "      <td>0.0</td>\n",
       "      <td>1030</td>\n",
       "      <td>0.892057</td>\n",
       "      <td>17.51</td>\n",
       "      <td>20.980</td>\n",
       "      <td>...</td>\n",
       "      <td>11.026129</td>\n",
       "      <td>22.380167</td>\n",
       "      <td>29.692258</td>\n",
       "      <td>28.463065</td>\n",
       "      <td>17.122874</td>\n",
       "      <td>16.666452</td>\n",
       "      <td>16</td>\n",
       "      <td>1.049050</td>\n",
       "      <td>236</td>\n",
       "      <td>1</td>\n",
       "    </tr>\n",
       "    <tr>\n",
       "      <th>4</th>\n",
       "      <td>25.436659</td>\n",
       "      <td>48.695929</td>\n",
       "      <td>26199.758333</td>\n",
       "      <td>3.3875</td>\n",
       "      <td>399.40</td>\n",
       "      <td>0.0</td>\n",
       "      <td>1030</td>\n",
       "      <td>5.629142</td>\n",
       "      <td>1.16</td>\n",
       "      <td>0.610</td>\n",
       "      <td>...</td>\n",
       "      <td>66.410000</td>\n",
       "      <td>115.974000</td>\n",
       "      <td>147.117742</td>\n",
       "      <td>142.962903</td>\n",
       "      <td>12.208276</td>\n",
       "      <td>1.896022</td>\n",
       "      <td>18</td>\n",
       "      <td>6.240874</td>\n",
       "      <td>127</td>\n",
       "      <td>1</td>\n",
       "    </tr>\n",
       "  </tbody>\n",
       "</table>\n",
       "<p>5 rows × 48 columns</p>\n",
       "</div>"
      ],
      "text/plain": [
       "   mean_consumption  std_consumption  sum_consumption  median_consumption  \\\n",
       "0          0.947796         3.101514       976.230000              0.0000   \n",
       "1          4.348694         6.844979      4479.155000              0.9875   \n",
       "2          6.304235         9.416844      6493.361667              2.3900   \n",
       "3          4.215524        10.180330      4341.990000              0.0000   \n",
       "4         25.436659        48.695929     26199.758333              3.3875   \n",
       "\n",
       "   max_consumption  min_consumption  count_valid_days  mean_daily_diff  lag_1  \\\n",
       "0            18.29              0.0              1030         0.223178   0.70   \n",
       "1            44.57              0.0              1030         0.833226  13.94   \n",
       "2            79.71              0.0              1030         2.723158   1.88   \n",
       "3           106.22              0.0              1030         0.892057  17.51   \n",
       "4           399.40              0.0              1030         5.629142   1.16   \n",
       "\n",
       "    lag_7  ...  monthly_avg_2016_05  monthly_avg_2016_06  monthly_avg_2016_07  \\\n",
       "0   0.020  ...             0.000000             0.000000             0.024839   \n",
       "1  17.130  ...             9.023871            16.486000            17.684194   \n",
       "2  19.055  ...             6.205161            12.153000            15.704839   \n",
       "3  20.980  ...            11.026129            22.380167            29.692258   \n",
       "4   0.610  ...            66.410000           115.974000           147.117742   \n",
       "\n",
       "   monthly_avg_2016_08  monthly_avg_2016_09  monthly_avg_2016_10  \\\n",
       "0             0.108065             0.088621             0.349355   \n",
       "1            14.475484            22.908103            16.703871   \n",
       "2            14.458710             7.842816            13.315323   \n",
       "3            28.463065            17.122874            16.666452   \n",
       "4           142.962903            12.208276             1.896022   \n",
       "\n",
       "   num_z_outliers  mean_rolling_deviation  num_iqr_outliers  FLAG  \n",
       "0              47                0.248229               168     1  \n",
       "1              14                0.978513               149     1  \n",
       "2              22                3.367538                36     1  \n",
       "3              16                1.049050               236     1  \n",
       "4              18                6.240874               127     1  \n",
       "\n",
       "[5 rows x 48 columns]"
      ]
     },
     "execution_count": 2,
     "metadata": {},
     "output_type": "execute_result"
    }
   ],
   "source": [
    "# Load the dataset\n",
    "df = pd.read_csv('../data/processed/cleaned_and_processed_data.csv')\n",
    "df.head()"
   ]
  },
  {
   "cell_type": "markdown",
   "metadata": {},
   "source": [
    "## Selecting Top Features with Random Forest for Model Building"
   ]
  },
  {
   "cell_type": "code",
   "execution_count": 3,
   "metadata": {},
   "outputs": [],
   "source": [
    "# Drop rows with missing target\n",
    "df = df.dropna(subset=['FLAG'])"
   ]
  },
  {
   "cell_type": "code",
   "execution_count": 4,
   "metadata": {},
   "outputs": [],
   "source": [
    "# Separate X and y\n",
    "X = df.drop(columns=['FLAG'])\n",
    "y = df['FLAG']"
   ]
  },
  {
   "cell_type": "code",
   "execution_count": 5,
   "metadata": {},
   "outputs": [],
   "source": [
    "# Fill missing values in features\n",
    "imputer = SimpleImputer(strategy='mean')\n",
    "X_imputed = pd.DataFrame(imputer.fit_transform(X), columns=X.columns)"
   ]
  },
  {
   "cell_type": "code",
   "execution_count": 6,
   "metadata": {},
   "outputs": [
    {
     "data": {
      "text/html": [
       "<style>#sk-container-id-1 {\n",
       "  /* Definition of color scheme common for light and dark mode */\n",
       "  --sklearn-color-text: #000;\n",
       "  --sklearn-color-text-muted: #666;\n",
       "  --sklearn-color-line: gray;\n",
       "  /* Definition of color scheme for unfitted estimators */\n",
       "  --sklearn-color-unfitted-level-0: #fff5e6;\n",
       "  --sklearn-color-unfitted-level-1: #f6e4d2;\n",
       "  --sklearn-color-unfitted-level-2: #ffe0b3;\n",
       "  --sklearn-color-unfitted-level-3: chocolate;\n",
       "  /* Definition of color scheme for fitted estimators */\n",
       "  --sklearn-color-fitted-level-0: #f0f8ff;\n",
       "  --sklearn-color-fitted-level-1: #d4ebff;\n",
       "  --sklearn-color-fitted-level-2: #b3dbfd;\n",
       "  --sklearn-color-fitted-level-3: cornflowerblue;\n",
       "\n",
       "  /* Specific color for light theme */\n",
       "  --sklearn-color-text-on-default-background: var(--sg-text-color, var(--theme-code-foreground, var(--jp-content-font-color1, black)));\n",
       "  --sklearn-color-background: var(--sg-background-color, var(--theme-background, var(--jp-layout-color0, white)));\n",
       "  --sklearn-color-border-box: var(--sg-text-color, var(--theme-code-foreground, var(--jp-content-font-color1, black)));\n",
       "  --sklearn-color-icon: #696969;\n",
       "\n",
       "  @media (prefers-color-scheme: dark) {\n",
       "    /* Redefinition of color scheme for dark theme */\n",
       "    --sklearn-color-text-on-default-background: var(--sg-text-color, var(--theme-code-foreground, var(--jp-content-font-color1, white)));\n",
       "    --sklearn-color-background: var(--sg-background-color, var(--theme-background, var(--jp-layout-color0, #111)));\n",
       "    --sklearn-color-border-box: var(--sg-text-color, var(--theme-code-foreground, var(--jp-content-font-color1, white)));\n",
       "    --sklearn-color-icon: #878787;\n",
       "  }\n",
       "}\n",
       "\n",
       "#sk-container-id-1 {\n",
       "  color: var(--sklearn-color-text);\n",
       "}\n",
       "\n",
       "#sk-container-id-1 pre {\n",
       "  padding: 0;\n",
       "}\n",
       "\n",
       "#sk-container-id-1 input.sk-hidden--visually {\n",
       "  border: 0;\n",
       "  clip: rect(1px 1px 1px 1px);\n",
       "  clip: rect(1px, 1px, 1px, 1px);\n",
       "  height: 1px;\n",
       "  margin: -1px;\n",
       "  overflow: hidden;\n",
       "  padding: 0;\n",
       "  position: absolute;\n",
       "  width: 1px;\n",
       "}\n",
       "\n",
       "#sk-container-id-1 div.sk-dashed-wrapped {\n",
       "  border: 1px dashed var(--sklearn-color-line);\n",
       "  margin: 0 0.4em 0.5em 0.4em;\n",
       "  box-sizing: border-box;\n",
       "  padding-bottom: 0.4em;\n",
       "  background-color: var(--sklearn-color-background);\n",
       "}\n",
       "\n",
       "#sk-container-id-1 div.sk-container {\n",
       "  /* jupyter's `normalize.less` sets `[hidden] { display: none; }`\n",
       "     but bootstrap.min.css set `[hidden] { display: none !important; }`\n",
       "     so we also need the `!important` here to be able to override the\n",
       "     default hidden behavior on the sphinx rendered scikit-learn.org.\n",
       "     See: https://github.com/scikit-learn/scikit-learn/issues/21755 */\n",
       "  display: inline-block !important;\n",
       "  position: relative;\n",
       "}\n",
       "\n",
       "#sk-container-id-1 div.sk-text-repr-fallback {\n",
       "  display: none;\n",
       "}\n",
       "\n",
       "div.sk-parallel-item,\n",
       "div.sk-serial,\n",
       "div.sk-item {\n",
       "  /* draw centered vertical line to link estimators */\n",
       "  background-image: linear-gradient(var(--sklearn-color-text-on-default-background), var(--sklearn-color-text-on-default-background));\n",
       "  background-size: 2px 100%;\n",
       "  background-repeat: no-repeat;\n",
       "  background-position: center center;\n",
       "}\n",
       "\n",
       "/* Parallel-specific style estimator block */\n",
       "\n",
       "#sk-container-id-1 div.sk-parallel-item::after {\n",
       "  content: \"\";\n",
       "  width: 100%;\n",
       "  border-bottom: 2px solid var(--sklearn-color-text-on-default-background);\n",
       "  flex-grow: 1;\n",
       "}\n",
       "\n",
       "#sk-container-id-1 div.sk-parallel {\n",
       "  display: flex;\n",
       "  align-items: stretch;\n",
       "  justify-content: center;\n",
       "  background-color: var(--sklearn-color-background);\n",
       "  position: relative;\n",
       "}\n",
       "\n",
       "#sk-container-id-1 div.sk-parallel-item {\n",
       "  display: flex;\n",
       "  flex-direction: column;\n",
       "}\n",
       "\n",
       "#sk-container-id-1 div.sk-parallel-item:first-child::after {\n",
       "  align-self: flex-end;\n",
       "  width: 50%;\n",
       "}\n",
       "\n",
       "#sk-container-id-1 div.sk-parallel-item:last-child::after {\n",
       "  align-self: flex-start;\n",
       "  width: 50%;\n",
       "}\n",
       "\n",
       "#sk-container-id-1 div.sk-parallel-item:only-child::after {\n",
       "  width: 0;\n",
       "}\n",
       "\n",
       "/* Serial-specific style estimator block */\n",
       "\n",
       "#sk-container-id-1 div.sk-serial {\n",
       "  display: flex;\n",
       "  flex-direction: column;\n",
       "  align-items: center;\n",
       "  background-color: var(--sklearn-color-background);\n",
       "  padding-right: 1em;\n",
       "  padding-left: 1em;\n",
       "}\n",
       "\n",
       "\n",
       "/* Toggleable style: style used for estimator/Pipeline/ColumnTransformer box that is\n",
       "clickable and can be expanded/collapsed.\n",
       "- Pipeline and ColumnTransformer use this feature and define the default style\n",
       "- Estimators will overwrite some part of the style using the `sk-estimator` class\n",
       "*/\n",
       "\n",
       "/* Pipeline and ColumnTransformer style (default) */\n",
       "\n",
       "#sk-container-id-1 div.sk-toggleable {\n",
       "  /* Default theme specific background. It is overwritten whether we have a\n",
       "  specific estimator or a Pipeline/ColumnTransformer */\n",
       "  background-color: var(--sklearn-color-background);\n",
       "}\n",
       "\n",
       "/* Toggleable label */\n",
       "#sk-container-id-1 label.sk-toggleable__label {\n",
       "  cursor: pointer;\n",
       "  display: flex;\n",
       "  width: 100%;\n",
       "  margin-bottom: 0;\n",
       "  padding: 0.5em;\n",
       "  box-sizing: border-box;\n",
       "  text-align: center;\n",
       "  align-items: start;\n",
       "  justify-content: space-between;\n",
       "  gap: 0.5em;\n",
       "}\n",
       "\n",
       "#sk-container-id-1 label.sk-toggleable__label .caption {\n",
       "  font-size: 0.6rem;\n",
       "  font-weight: lighter;\n",
       "  color: var(--sklearn-color-text-muted);\n",
       "}\n",
       "\n",
       "#sk-container-id-1 label.sk-toggleable__label-arrow:before {\n",
       "  /* Arrow on the left of the label */\n",
       "  content: \"▸\";\n",
       "  float: left;\n",
       "  margin-right: 0.25em;\n",
       "  color: var(--sklearn-color-icon);\n",
       "}\n",
       "\n",
       "#sk-container-id-1 label.sk-toggleable__label-arrow:hover:before {\n",
       "  color: var(--sklearn-color-text);\n",
       "}\n",
       "\n",
       "/* Toggleable content - dropdown */\n",
       "\n",
       "#sk-container-id-1 div.sk-toggleable__content {\n",
       "  max-height: 0;\n",
       "  max-width: 0;\n",
       "  overflow: hidden;\n",
       "  text-align: left;\n",
       "  /* unfitted */\n",
       "  background-color: var(--sklearn-color-unfitted-level-0);\n",
       "}\n",
       "\n",
       "#sk-container-id-1 div.sk-toggleable__content.fitted {\n",
       "  /* fitted */\n",
       "  background-color: var(--sklearn-color-fitted-level-0);\n",
       "}\n",
       "\n",
       "#sk-container-id-1 div.sk-toggleable__content pre {\n",
       "  margin: 0.2em;\n",
       "  border-radius: 0.25em;\n",
       "  color: var(--sklearn-color-text);\n",
       "  /* unfitted */\n",
       "  background-color: var(--sklearn-color-unfitted-level-0);\n",
       "}\n",
       "\n",
       "#sk-container-id-1 div.sk-toggleable__content.fitted pre {\n",
       "  /* unfitted */\n",
       "  background-color: var(--sklearn-color-fitted-level-0);\n",
       "}\n",
       "\n",
       "#sk-container-id-1 input.sk-toggleable__control:checked~div.sk-toggleable__content {\n",
       "  /* Expand drop-down */\n",
       "  max-height: 200px;\n",
       "  max-width: 100%;\n",
       "  overflow: auto;\n",
       "}\n",
       "\n",
       "#sk-container-id-1 input.sk-toggleable__control:checked~label.sk-toggleable__label-arrow:before {\n",
       "  content: \"▾\";\n",
       "}\n",
       "\n",
       "/* Pipeline/ColumnTransformer-specific style */\n",
       "\n",
       "#sk-container-id-1 div.sk-label input.sk-toggleable__control:checked~label.sk-toggleable__label {\n",
       "  color: var(--sklearn-color-text);\n",
       "  background-color: var(--sklearn-color-unfitted-level-2);\n",
       "}\n",
       "\n",
       "#sk-container-id-1 div.sk-label.fitted input.sk-toggleable__control:checked~label.sk-toggleable__label {\n",
       "  background-color: var(--sklearn-color-fitted-level-2);\n",
       "}\n",
       "\n",
       "/* Estimator-specific style */\n",
       "\n",
       "/* Colorize estimator box */\n",
       "#sk-container-id-1 div.sk-estimator input.sk-toggleable__control:checked~label.sk-toggleable__label {\n",
       "  /* unfitted */\n",
       "  background-color: var(--sklearn-color-unfitted-level-2);\n",
       "}\n",
       "\n",
       "#sk-container-id-1 div.sk-estimator.fitted input.sk-toggleable__control:checked~label.sk-toggleable__label {\n",
       "  /* fitted */\n",
       "  background-color: var(--sklearn-color-fitted-level-2);\n",
       "}\n",
       "\n",
       "#sk-container-id-1 div.sk-label label.sk-toggleable__label,\n",
       "#sk-container-id-1 div.sk-label label {\n",
       "  /* The background is the default theme color */\n",
       "  color: var(--sklearn-color-text-on-default-background);\n",
       "}\n",
       "\n",
       "/* On hover, darken the color of the background */\n",
       "#sk-container-id-1 div.sk-label:hover label.sk-toggleable__label {\n",
       "  color: var(--sklearn-color-text);\n",
       "  background-color: var(--sklearn-color-unfitted-level-2);\n",
       "}\n",
       "\n",
       "/* Label box, darken color on hover, fitted */\n",
       "#sk-container-id-1 div.sk-label.fitted:hover label.sk-toggleable__label.fitted {\n",
       "  color: var(--sklearn-color-text);\n",
       "  background-color: var(--sklearn-color-fitted-level-2);\n",
       "}\n",
       "\n",
       "/* Estimator label */\n",
       "\n",
       "#sk-container-id-1 div.sk-label label {\n",
       "  font-family: monospace;\n",
       "  font-weight: bold;\n",
       "  display: inline-block;\n",
       "  line-height: 1.2em;\n",
       "}\n",
       "\n",
       "#sk-container-id-1 div.sk-label-container {\n",
       "  text-align: center;\n",
       "}\n",
       "\n",
       "/* Estimator-specific */\n",
       "#sk-container-id-1 div.sk-estimator {\n",
       "  font-family: monospace;\n",
       "  border: 1px dotted var(--sklearn-color-border-box);\n",
       "  border-radius: 0.25em;\n",
       "  box-sizing: border-box;\n",
       "  margin-bottom: 0.5em;\n",
       "  /* unfitted */\n",
       "  background-color: var(--sklearn-color-unfitted-level-0);\n",
       "}\n",
       "\n",
       "#sk-container-id-1 div.sk-estimator.fitted {\n",
       "  /* fitted */\n",
       "  background-color: var(--sklearn-color-fitted-level-0);\n",
       "}\n",
       "\n",
       "/* on hover */\n",
       "#sk-container-id-1 div.sk-estimator:hover {\n",
       "  /* unfitted */\n",
       "  background-color: var(--sklearn-color-unfitted-level-2);\n",
       "}\n",
       "\n",
       "#sk-container-id-1 div.sk-estimator.fitted:hover {\n",
       "  /* fitted */\n",
       "  background-color: var(--sklearn-color-fitted-level-2);\n",
       "}\n",
       "\n",
       "/* Specification for estimator info (e.g. \"i\" and \"?\") */\n",
       "\n",
       "/* Common style for \"i\" and \"?\" */\n",
       "\n",
       ".sk-estimator-doc-link,\n",
       "a:link.sk-estimator-doc-link,\n",
       "a:visited.sk-estimator-doc-link {\n",
       "  float: right;\n",
       "  font-size: smaller;\n",
       "  line-height: 1em;\n",
       "  font-family: monospace;\n",
       "  background-color: var(--sklearn-color-background);\n",
       "  border-radius: 1em;\n",
       "  height: 1em;\n",
       "  width: 1em;\n",
       "  text-decoration: none !important;\n",
       "  margin-left: 0.5em;\n",
       "  text-align: center;\n",
       "  /* unfitted */\n",
       "  border: var(--sklearn-color-unfitted-level-1) 1pt solid;\n",
       "  color: var(--sklearn-color-unfitted-level-1);\n",
       "}\n",
       "\n",
       ".sk-estimator-doc-link.fitted,\n",
       "a:link.sk-estimator-doc-link.fitted,\n",
       "a:visited.sk-estimator-doc-link.fitted {\n",
       "  /* fitted */\n",
       "  border: var(--sklearn-color-fitted-level-1) 1pt solid;\n",
       "  color: var(--sklearn-color-fitted-level-1);\n",
       "}\n",
       "\n",
       "/* On hover */\n",
       "div.sk-estimator:hover .sk-estimator-doc-link:hover,\n",
       ".sk-estimator-doc-link:hover,\n",
       "div.sk-label-container:hover .sk-estimator-doc-link:hover,\n",
       ".sk-estimator-doc-link:hover {\n",
       "  /* unfitted */\n",
       "  background-color: var(--sklearn-color-unfitted-level-3);\n",
       "  color: var(--sklearn-color-background);\n",
       "  text-decoration: none;\n",
       "}\n",
       "\n",
       "div.sk-estimator.fitted:hover .sk-estimator-doc-link.fitted:hover,\n",
       ".sk-estimator-doc-link.fitted:hover,\n",
       "div.sk-label-container:hover .sk-estimator-doc-link.fitted:hover,\n",
       ".sk-estimator-doc-link.fitted:hover {\n",
       "  /* fitted */\n",
       "  background-color: var(--sklearn-color-fitted-level-3);\n",
       "  color: var(--sklearn-color-background);\n",
       "  text-decoration: none;\n",
       "}\n",
       "\n",
       "/* Span, style for the box shown on hovering the info icon */\n",
       ".sk-estimator-doc-link span {\n",
       "  display: none;\n",
       "  z-index: 9999;\n",
       "  position: relative;\n",
       "  font-weight: normal;\n",
       "  right: .2ex;\n",
       "  padding: .5ex;\n",
       "  margin: .5ex;\n",
       "  width: min-content;\n",
       "  min-width: 20ex;\n",
       "  max-width: 50ex;\n",
       "  color: var(--sklearn-color-text);\n",
       "  box-shadow: 2pt 2pt 4pt #999;\n",
       "  /* unfitted */\n",
       "  background: var(--sklearn-color-unfitted-level-0);\n",
       "  border: .5pt solid var(--sklearn-color-unfitted-level-3);\n",
       "}\n",
       "\n",
       ".sk-estimator-doc-link.fitted span {\n",
       "  /* fitted */\n",
       "  background: var(--sklearn-color-fitted-level-0);\n",
       "  border: var(--sklearn-color-fitted-level-3);\n",
       "}\n",
       "\n",
       ".sk-estimator-doc-link:hover span {\n",
       "  display: block;\n",
       "}\n",
       "\n",
       "/* \"?\"-specific style due to the `<a>` HTML tag */\n",
       "\n",
       "#sk-container-id-1 a.estimator_doc_link {\n",
       "  float: right;\n",
       "  font-size: 1rem;\n",
       "  line-height: 1em;\n",
       "  font-family: monospace;\n",
       "  background-color: var(--sklearn-color-background);\n",
       "  border-radius: 1rem;\n",
       "  height: 1rem;\n",
       "  width: 1rem;\n",
       "  text-decoration: none;\n",
       "  /* unfitted */\n",
       "  color: var(--sklearn-color-unfitted-level-1);\n",
       "  border: var(--sklearn-color-unfitted-level-1) 1pt solid;\n",
       "}\n",
       "\n",
       "#sk-container-id-1 a.estimator_doc_link.fitted {\n",
       "  /* fitted */\n",
       "  border: var(--sklearn-color-fitted-level-1) 1pt solid;\n",
       "  color: var(--sklearn-color-fitted-level-1);\n",
       "}\n",
       "\n",
       "/* On hover */\n",
       "#sk-container-id-1 a.estimator_doc_link:hover {\n",
       "  /* unfitted */\n",
       "  background-color: var(--sklearn-color-unfitted-level-3);\n",
       "  color: var(--sklearn-color-background);\n",
       "  text-decoration: none;\n",
       "}\n",
       "\n",
       "#sk-container-id-1 a.estimator_doc_link.fitted:hover {\n",
       "  /* fitted */\n",
       "  background-color: var(--sklearn-color-fitted-level-3);\n",
       "}\n",
       "</style><div id=\"sk-container-id-1\" class=\"sk-top-container\"><div class=\"sk-text-repr-fallback\"><pre>RandomForestClassifier(random_state=42)</pre><b>In a Jupyter environment, please rerun this cell to show the HTML representation or trust the notebook. <br />On GitHub, the HTML representation is unable to render, please try loading this page with nbviewer.org.</b></div><div class=\"sk-container\" hidden><div class=\"sk-item\"><div class=\"sk-estimator fitted sk-toggleable\"><input class=\"sk-toggleable__control sk-hidden--visually\" id=\"sk-estimator-id-1\" type=\"checkbox\" checked><label for=\"sk-estimator-id-1\" class=\"sk-toggleable__label fitted sk-toggleable__label-arrow\"><div><div>RandomForestClassifier</div></div><div><a class=\"sk-estimator-doc-link fitted\" rel=\"noreferrer\" target=\"_blank\" href=\"https://scikit-learn.org/1.6/modules/generated/sklearn.ensemble.RandomForestClassifier.html\">?<span>Documentation for RandomForestClassifier</span></a><span class=\"sk-estimator-doc-link fitted\">i<span>Fitted</span></span></div></label><div class=\"sk-toggleable__content fitted\"><pre>RandomForestClassifier(random_state=42)</pre></div> </div></div></div></div>"
      ],
      "text/plain": [
       "RandomForestClassifier(random_state=42)"
      ]
     },
     "execution_count": 6,
     "metadata": {},
     "output_type": "execute_result"
    }
   ],
   "source": [
    "# Train Random Forest to get feature importances\n",
    "rf = RandomForestClassifier(random_state=42)\n",
    "rf.fit(X_imputed, y)"
   ]
  },
  {
   "cell_type": "code",
   "execution_count": 7,
   "metadata": {},
   "outputs": [],
   "source": [
    "# Get feature importances\n",
    "importances = rf.feature_importances_\n",
    "feature_names = X.columns"
   ]
  },
  {
   "cell_type": "code",
   "execution_count": 8,
   "metadata": {},
   "outputs": [],
   "source": [
    "# Create DataFrame for importances and sort descending\n",
    "feat_imp_df = pd.DataFrame({\n",
    "    'feature': feature_names,\n",
    "    'importance': importances\n",
    "}).sort_values(by='importance', ascending=False)\n"
   ]
  },
  {
   "cell_type": "code",
   "execution_count": 9,
   "metadata": {},
   "outputs": [
    {
     "name": "stdout",
     "output_type": "stream",
     "text": [
      "Top features: ['monthly_avg_2014_01', 'std_consumption', 'mean_daily_diff', 'mean_rolling_deviation', 'monthly_avg_2014_02', 'monthly_avg_2014_03', 'mean_consumption', 'max_consumption', 'num_z_outliers', 'sum_consumption', 'monthly_avg_2016_10', 'lag_1', 'monthly_avg_2014_05', 'monthly_avg_2014_04', 'monthly_avg_2014_06', 'monthly_avg_2016_03', 'monthly_avg_2016_04', 'monthly_avg_2016_09', 'monthly_avg_2016_01', 'monthly_avg_2014_10']\n"
     ]
    }
   ],
   "source": [
    "# Select top N features (e.g., top 20)\n",
    "top_features = feat_imp_df['feature'].head(20).tolist()\n",
    "\n",
    "print(\"Top features:\", top_features)"
   ]
  },
  {
   "cell_type": "code",
   "execution_count": 10,
   "metadata": {},
   "outputs": [
    {
     "name": "stdout",
     "output_type": "stream",
     "text": [
      "Saved selected top features to 'selected_features.csv'\n"
     ]
    }
   ],
   "source": [
    "# Create a new DataFrame with only the top features and the target column\n",
    "df_selected = pd.concat([X_imputed[top_features], y.reset_index(drop=True)], axis=1)\n",
    "\n",
    "# Save the selected features and target to a new CSV file\n",
    "# df_selected.to_csv('/data/features/selected_features.csv', index=False) #Uncomment to save file\n",
    "\n",
    "print(\"Saved selected top features to 'selected_features.csv'\")"
   ]
  },
  {
   "cell_type": "markdown",
   "metadata": {},
   "source": [
    "## Model Building"
   ]
  },
  {
   "cell_type": "code",
   "execution_count": 11,
   "metadata": {},
   "outputs": [
    {
     "data": {
      "text/html": [
       "<div>\n",
       "<style scoped>\n",
       "    .dataframe tbody tr th:only-of-type {\n",
       "        vertical-align: middle;\n",
       "    }\n",
       "\n",
       "    .dataframe tbody tr th {\n",
       "        vertical-align: top;\n",
       "    }\n",
       "\n",
       "    .dataframe thead th {\n",
       "        text-align: right;\n",
       "    }\n",
       "</style>\n",
       "<table border=\"1\" class=\"dataframe\">\n",
       "  <thead>\n",
       "    <tr style=\"text-align: right;\">\n",
       "      <th></th>\n",
       "      <th>monthly_avg_2014_01</th>\n",
       "      <th>std_consumption</th>\n",
       "      <th>mean_daily_diff</th>\n",
       "      <th>mean_rolling_deviation</th>\n",
       "      <th>monthly_avg_2014_02</th>\n",
       "      <th>monthly_avg_2014_03</th>\n",
       "      <th>mean_consumption</th>\n",
       "      <th>max_consumption</th>\n",
       "      <th>num_z_outliers</th>\n",
       "      <th>sum_consumption</th>\n",
       "      <th>...</th>\n",
       "      <th>lag_1</th>\n",
       "      <th>monthly_avg_2014_05</th>\n",
       "      <th>monthly_avg_2014_04</th>\n",
       "      <th>monthly_avg_2014_06</th>\n",
       "      <th>monthly_avg_2016_03</th>\n",
       "      <th>monthly_avg_2016_04</th>\n",
       "      <th>monthly_avg_2016_09</th>\n",
       "      <th>monthly_avg_2016_01</th>\n",
       "      <th>monthly_avg_2014_10</th>\n",
       "      <th>FLAG</th>\n",
       "    </tr>\n",
       "  </thead>\n",
       "  <tbody>\n",
       "    <tr>\n",
       "      <th>42367</th>\n",
       "      <td>111.694839</td>\n",
       "      <td>103.241286</td>\n",
       "      <td>5.174534</td>\n",
       "      <td>6.668070</td>\n",
       "      <td>0.0</td>\n",
       "      <td>2.912019</td>\n",
       "      <td>9.892740</td>\n",
       "      <td>3318.0</td>\n",
       "      <td>1.0</td>\n",
       "      <td>10189.522685</td>\n",
       "      <td>...</td>\n",
       "      <td>3.26</td>\n",
       "      <td>6.937312</td>\n",
       "      <td>6.373394</td>\n",
       "      <td>8.981889</td>\n",
       "      <td>4.407097</td>\n",
       "      <td>4.285667</td>\n",
       "      <td>4.393103</td>\n",
       "      <td>3.825161</td>\n",
       "      <td>7.577556</td>\n",
       "      <td>0</td>\n",
       "    </tr>\n",
       "    <tr>\n",
       "      <th>42368</th>\n",
       "      <td>111.694839</td>\n",
       "      <td>103.194760</td>\n",
       "      <td>4.453771</td>\n",
       "      <td>6.272178</td>\n",
       "      <td>0.0</td>\n",
       "      <td>3.052258</td>\n",
       "      <td>12.389117</td>\n",
       "      <td>3318.0</td>\n",
       "      <td>1.0</td>\n",
       "      <td>12760.790000</td>\n",
       "      <td>...</td>\n",
       "      <td>9.95</td>\n",
       "      <td>7.010000</td>\n",
       "      <td>6.488966</td>\n",
       "      <td>10.143667</td>\n",
       "      <td>6.125161</td>\n",
       "      <td>9.782333</td>\n",
       "      <td>10.876552</td>\n",
       "      <td>5.723226</td>\n",
       "      <td>8.787000</td>\n",
       "      <td>0</td>\n",
       "    </tr>\n",
       "    <tr>\n",
       "      <th>42369</th>\n",
       "      <td>111.694839</td>\n",
       "      <td>103.361980</td>\n",
       "      <td>3.971050</td>\n",
       "      <td>5.846763</td>\n",
       "      <td>0.0</td>\n",
       "      <td>3.052258</td>\n",
       "      <td>5.828995</td>\n",
       "      <td>3318.0</td>\n",
       "      <td>1.0</td>\n",
       "      <td>6003.865000</td>\n",
       "      <td>...</td>\n",
       "      <td>0.77</td>\n",
       "      <td>7.010000</td>\n",
       "      <td>6.488966</td>\n",
       "      <td>10.143667</td>\n",
       "      <td>0.503871</td>\n",
       "      <td>0.599333</td>\n",
       "      <td>0.594828</td>\n",
       "      <td>0.842258</td>\n",
       "      <td>2.992000</td>\n",
       "      <td>0</td>\n",
       "    </tr>\n",
       "    <tr>\n",
       "      <th>42370</th>\n",
       "      <td>111.694839</td>\n",
       "      <td>103.284078</td>\n",
       "      <td>4.305015</td>\n",
       "      <td>6.040796</td>\n",
       "      <td>0.0</td>\n",
       "      <td>3.052258</td>\n",
       "      <td>7.893990</td>\n",
       "      <td>3318.0</td>\n",
       "      <td>1.0</td>\n",
       "      <td>8130.810000</td>\n",
       "      <td>...</td>\n",
       "      <td>3.59</td>\n",
       "      <td>7.010000</td>\n",
       "      <td>6.488966</td>\n",
       "      <td>10.143667</td>\n",
       "      <td>5.304516</td>\n",
       "      <td>4.949667</td>\n",
       "      <td>3.630345</td>\n",
       "      <td>4.870645</td>\n",
       "      <td>4.893000</td>\n",
       "      <td>0</td>\n",
       "    </tr>\n",
       "    <tr>\n",
       "      <th>42371</th>\n",
       "      <td>111.694839</td>\n",
       "      <td>103.287694</td>\n",
       "      <td>4.811846</td>\n",
       "      <td>6.453850</td>\n",
       "      <td>0.0</td>\n",
       "      <td>3.052258</td>\n",
       "      <td>9.188320</td>\n",
       "      <td>3318.0</td>\n",
       "      <td>1.0</td>\n",
       "      <td>9463.970000</td>\n",
       "      <td>...</td>\n",
       "      <td>7.16</td>\n",
       "      <td>7.010000</td>\n",
       "      <td>6.488966</td>\n",
       "      <td>10.143667</td>\n",
       "      <td>6.254516</td>\n",
       "      <td>5.003667</td>\n",
       "      <td>8.423103</td>\n",
       "      <td>5.938387</td>\n",
       "      <td>4.893000</td>\n",
       "      <td>0</td>\n",
       "    </tr>\n",
       "  </tbody>\n",
       "</table>\n",
       "<p>5 rows × 21 columns</p>\n",
       "</div>"
      ],
      "text/plain": [
       "       monthly_avg_2014_01  std_consumption  mean_daily_diff  \\\n",
       "42367           111.694839       103.241286         5.174534   \n",
       "42368           111.694839       103.194760         4.453771   \n",
       "42369           111.694839       103.361980         3.971050   \n",
       "42370           111.694839       103.284078         4.305015   \n",
       "42371           111.694839       103.287694         4.811846   \n",
       "\n",
       "       mean_rolling_deviation  monthly_avg_2014_02  monthly_avg_2014_03  \\\n",
       "42367                6.668070                  0.0             2.912019   \n",
       "42368                6.272178                  0.0             3.052258   \n",
       "42369                5.846763                  0.0             3.052258   \n",
       "42370                6.040796                  0.0             3.052258   \n",
       "42371                6.453850                  0.0             3.052258   \n",
       "\n",
       "       mean_consumption  max_consumption  num_z_outliers  sum_consumption  \\\n",
       "42367          9.892740           3318.0             1.0     10189.522685   \n",
       "42368         12.389117           3318.0             1.0     12760.790000   \n",
       "42369          5.828995           3318.0             1.0      6003.865000   \n",
       "42370          7.893990           3318.0             1.0      8130.810000   \n",
       "42371          9.188320           3318.0             1.0      9463.970000   \n",
       "\n",
       "       ...  lag_1  monthly_avg_2014_05  monthly_avg_2014_04  \\\n",
       "42367  ...   3.26             6.937312             6.373394   \n",
       "42368  ...   9.95             7.010000             6.488966   \n",
       "42369  ...   0.77             7.010000             6.488966   \n",
       "42370  ...   3.59             7.010000             6.488966   \n",
       "42371  ...   7.16             7.010000             6.488966   \n",
       "\n",
       "       monthly_avg_2014_06  monthly_avg_2016_03  monthly_avg_2016_04  \\\n",
       "42367             8.981889             4.407097             4.285667   \n",
       "42368            10.143667             6.125161             9.782333   \n",
       "42369            10.143667             0.503871             0.599333   \n",
       "42370            10.143667             5.304516             4.949667   \n",
       "42371            10.143667             6.254516             5.003667   \n",
       "\n",
       "       monthly_avg_2016_09  monthly_avg_2016_01  monthly_avg_2014_10  FLAG  \n",
       "42367             4.393103             3.825161             7.577556     0  \n",
       "42368            10.876552             5.723226             8.787000     0  \n",
       "42369             0.594828             0.842258             2.992000     0  \n",
       "42370             3.630345             4.870645             4.893000     0  \n",
       "42371             8.423103             5.938387             4.893000     0  \n",
       "\n",
       "[5 rows x 21 columns]"
      ]
     },
     "execution_count": 11,
     "metadata": {},
     "output_type": "execute_result"
    }
   ],
   "source": [
    "# Load selected top features data\n",
    "df = pd.read_csv('../data/features/selected_features.csv')\n",
    "df.tail()"
   ]
  },
  {
   "cell_type": "code",
   "execution_count": 12,
   "metadata": {},
   "outputs": [],
   "source": [
    "# Drop rows with missing target\n",
    "df = df.dropna(subset=[\"FLAG\"])"
   ]
  },
  {
   "cell_type": "code",
   "execution_count": 13,
   "metadata": {},
   "outputs": [],
   "source": [
    "# Separate features and target\n",
    "X = df.drop(columns=[\"FLAG\"])\n",
    "y = df[\"FLAG\"]"
   ]
  },
  {
   "cell_type": "code",
   "execution_count": 14,
   "metadata": {},
   "outputs": [],
   "source": [
    "# Fill missing values in features\n",
    "X = X.fillna(0)"
   ]
  },
  {
   "cell_type": "code",
   "execution_count": 15,
   "metadata": {},
   "outputs": [
    {
     "name": "stdout",
     "output_type": "stream",
     "text": [
      "X_train size: (33897, 20), X_test size: (8475, 20)\n"
     ]
    }
   ],
   "source": [
    "# Split the data\n",
    "X_train, X_test, y_train, y_test = train_test_split(\n",
    "    X, y, test_size=0.2, stratify=y, random_state=42\n",
    ")\n",
    "print('X_train size: {}, X_test size: {}'.format(X_train.shape, X_test.shape))"
   ]
  },
  {
   "cell_type": "code",
   "execution_count": 16,
   "metadata": {},
   "outputs": [],
   "source": [
    "sc = StandardScaler()\n",
    "X_train = sc.fit_transform(X_train)\n",
    "X_test = sc.transform(X_test)"
   ]
  },
  {
   "cell_type": "code",
   "execution_count": 17,
   "metadata": {},
   "outputs": [],
   "source": [
    "# Define the XGBoost model\n",
    "xgb = XGBClassifier(eval_metric='logloss', random_state=42)"
   ]
  },
  {
   "cell_type": "code",
   "execution_count": 18,
   "metadata": {},
   "outputs": [],
   "source": [
    "# Hyperparameter grid for RandomizedSearchCV\n",
    "param_dist = {\n",
    "    'n_estimators': [100, 200, 300],\n",
    "    'max_depth': [3, 5, 7, 10],\n",
    "    'learning_rate': [0.01, 0.05, 0.1, 0.2],\n",
    "    'subsample': [0.6, 0.8, 1.0],\n",
    "    'colsample_bytree': [0.6, 0.8, 1.0],\n",
    "    'gamma': [0, 0.1, 0.3, 0.5],\n",
    "    'scale_pos_weight': [1, np.sum(y_train==0) / np.sum(y_train==1)]\n",
    "}"
   ]
  },
  {
   "cell_type": "code",
   "execution_count": 19,
   "metadata": {},
   "outputs": [],
   "source": [
    "# Setup RandomizedSearchCV\n",
    "classifier = RandomizedSearchCV(\n",
    "    estimator=xgb,\n",
    "    param_distributions=param_dist,\n",
    "    n_iter=30,\n",
    "    scoring='f1',\n",
    "    cv=3,\n",
    "    verbose=2,\n",
    "    random_state=42,\n",
    "    n_jobs=-1\n",
    ")"
   ]
  },
  {
   "cell_type": "code",
   "execution_count": 20,
   "metadata": {},
   "outputs": [
    {
     "name": "stdout",
     "output_type": "stream",
     "text": [
      "Fitting 3 folds for each of 30 candidates, totalling 90 fits\n",
      "Best hyperparameters found:\n",
      "{'subsample': 0.8, 'scale_pos_weight': np.float64(10.720954356846473), 'n_estimators': 300, 'max_depth': 10, 'learning_rate': 0.05, 'gamma': 0, 'colsample_bytree': 0.8}\n"
     ]
    }
   ],
   "source": [
    "# Run hyperparameter tuning\n",
    "classifier.fit(X_train, y_train)\n",
    "\n",
    "print(\"Best hyperparameters found:\")\n",
    "print(classifier.best_params_)"
   ]
  },
  {
   "cell_type": "markdown",
   "metadata": {},
   "source": [
    "# Model Evaluation"
   ]
  },
  {
   "cell_type": "code",
   "execution_count": 21,
   "metadata": {},
   "outputs": [],
   "source": [
    "# Best model\n",
    "best_model = classifier.best_estimator_\n",
    "\n",
    "# Predict probabilities on test set\n",
    "y_probs = best_model.predict_proba(X_test)[:, 1]\n"
   ]
  },
  {
   "cell_type": "code",
   "execution_count": 22,
   "metadata": {},
   "outputs": [
    {
     "name": "stdout",
     "output_type": "stream",
     "text": [
      "Best threshold by F1 score: 0.569\n"
     ]
    }
   ],
   "source": [
    "# Find best threshold based on F1 score\n",
    "thresholds = np.linspace(0.1, 0.9, 100)\n",
    "f1_scores = [f1_score(y_test, (y_probs > t).astype(int)) for t in thresholds]\n",
    "\n",
    "best_threshold = thresholds[np.argmax(f1_scores)]\n",
    "print(f\"Best threshold by F1 score: {best_threshold:.3f}\")"
   ]
  },
  {
   "cell_type": "code",
   "execution_count": 23,
   "metadata": {},
   "outputs": [
    {
     "data": {
      "image/png": "[encoded data removed]",
      "text/plain": [
       "<Figure size 640x480 with 1 Axes>"
      ]
     },
     "metadata": {},
     "output_type": "display_data"
    }
   ],
   "source": [
    "# Plot F1 vs threshold\n",
    "plt.plot(thresholds, f1_scores, label='F1 Score') \n",
    "plt.axvline(best_threshold, color='r', linestyle='--', label=f'Best Threshold ({best_threshold:.4f})')\n",
    "plt.xlabel('Threshold')\n",
    "plt.ylabel('F1 Score')\n",
    "plt.title('F1 Score vs Threshold')\n",
    "plt.legend()\n",
    "plt.grid(True)\n",
    "plt.show()\n"
   ]
  },
  {
   "cell_type": "code",
   "execution_count": 24,
   "metadata": {},
   "outputs": [
    {
     "data": {
      "text/plain": [
       "array([[7599,  153],\n",
       "       [ 318,  405]])"
      ]
     },
     "execution_count": 24,
     "metadata": {},
     "output_type": "execute_result"
    }
   ],
   "source": [
    "# Use best threshold to predict labels\n",
    "y_pred = (y_probs > best_threshold).astype(int)\n",
    "\n",
    "cm = confusion_matrix(y_test, y_pred)\n",
    "cm"
   ]
  },
  {
   "cell_type": "code",
   "execution_count": 25,
   "metadata": {},
   "outputs": [
    {
     "name": "stdout",
     "output_type": "stream",
     "text": [
      "\n",
      "Classification Report:\n",
      "              precision    recall  f1-score   support\n",
      "\n",
      "           0       0.96      0.98      0.97      7752\n",
      "           1       0.73      0.56      0.63       723\n",
      "\n",
      "    accuracy                           0.94      8475\n",
      "   macro avg       0.84      0.77      0.80      8475\n",
      "weighted avg       0.94      0.94      0.94      8475\n",
      "\n"
     ]
    }
   ],
   "source": [
    "# Classification Report\n",
    "print(\"\\nClassification Report:\")\n",
    "print(classification_report(y_test, y_pred))"
   ]
  },
  {
   "cell_type": "code",
   "execution_count": 26,
   "metadata": {},
   "outputs": [
    {
     "data": {
      "text/plain": [
       "array([[7553,  199],\n",
       "       [ 305,  418]])"
      ]
     },
     "execution_count": 26,
     "metadata": {},
     "output_type": "execute_result"
    }
   ],
   "source": [
    "# Creating a confusion matrix for test set\n",
    "from sklearn.metrics import confusion_matrix, classification_report, accuracy_score\n",
    "y_pred = classifier.predict(X_test)\n",
    "cm = confusion_matrix(y_test, y_pred)\n",
    "cm"
   ]
  },
  {
   "cell_type": "code",
   "execution_count": 27,
   "metadata": {},
   "outputs": [
    {
     "data": {
      "image/png": "[encoded data removed]",
      "text/plain": [
       "<Figure size 1000x700 with 2 Axes>"
      ]
     },
     "metadata": {},
     "output_type": "display_data"
    }
   ],
   "source": [
    "# Plotting the confusion matrix for test set\n",
    "plt.figure(figsize=(10,7))\n",
    "p = sns.heatmap(cm, annot=True, cmap=\"Blues\", fmt='g')\n",
    "plt.title('Confusion matrix for XGBoost Classifier Model - Test Set')\n",
    "plt.xlabel('Predicted Values')\n",
    "plt.ylabel('Actual Values')\n",
    "plt.show()"
   ]
  },
  {
   "cell_type": "code",
   "execution_count": 28,
   "metadata": {},
   "outputs": [
    {
     "name": "stdout",
     "output_type": "stream",
     "text": [
      "Accuracy on test set: 94.05%\n"
     ]
    }
   ],
   "source": [
    "# Accuracy score for test set\n",
    "score = round(accuracy_score(y_test, y_pred),4)*100\n",
    "print(\"Accuracy on test set: {}%\".format(score))"
   ]
  },
  {
   "cell_type": "code",
   "execution_count": 29,
   "metadata": {},
   "outputs": [
    {
     "name": "stdout",
     "output_type": "stream",
     "text": [
      "              precision    recall  f1-score   support\n",
      "\n",
      "           0       0.96      0.97      0.97      7752\n",
      "           1       0.68      0.58      0.62       723\n",
      "\n",
      "    accuracy                           0.94      8475\n",
      "   macro avg       0.82      0.78      0.80      8475\n",
      "weighted avg       0.94      0.94      0.94      8475\n",
      "\n"
     ]
    }
   ],
   "source": [
    "# Classification report for test set\n",
    "print(classification_report(y_test, y_pred))"
   ]
  },
  {
   "cell_type": "code",
   "execution_count": 30,
   "metadata": {},
   "outputs": [
    {
     "data": {
      "text/plain": [
       "array([[30895,   110],\n",
       "       [    2,  2890]])"
      ]
     },
     "execution_count": 30,
     "metadata": {},
     "output_type": "execute_result"
    }
   ],
   "source": [
    "# Creating a confusion matrix for train set\n",
    "y_train_pred = classifier.predict(X_train)\n",
    "cm = confusion_matrix(y_train, y_train_pred)\n",
    "cm"
   ]
  },
  {
   "cell_type": "code",
   "execution_count": 31,
   "metadata": {},
   "outputs": [
    {
     "data": {
      "image/png": "[encoded data removed]",
      "text/plain": [
       "<Figure size 1000x700 with 2 Axes>"
      ]
     },
     "metadata": {},
     "output_type": "display_data"
    }
   ],
   "source": [
    "# Plotting the confusion matrix for train set\n",
    "plt.figure(figsize=(10,7))\n",
    "p = sns.heatmap(cm, annot=True, cmap=\"Blues\", fmt='g')\n",
    "plt.title('Confusion matrix for XGBoost Classifier Model - Train Set')\n",
    "plt.xlabel('Predicted Values')\n",
    "plt.ylabel('Actual Values')\n",
    "plt.show()"
   ]
  },
  {
   "cell_type": "code",
   "execution_count": 32,
   "metadata": {},
   "outputs": [
    {
     "name": "stdout",
     "output_type": "stream",
     "text": [
      "Accuracy on train set: 99.67%\n"
     ]
    }
   ],
   "source": [
    "# Accuracy score for train set\n",
    "score = round(accuracy_score(y_train, y_train_pred),4)*100\n",
    "print(\"Accuracy on train set: {}%\".format(score))"
   ]
  },
  {
   "cell_type": "code",
   "execution_count": 33,
   "metadata": {},
   "outputs": [
    {
     "name": "stdout",
     "output_type": "stream",
     "text": [
      "              precision    recall  f1-score   support\n",
      "\n",
      "           0       1.00      1.00      1.00     31005\n",
      "           1       0.96      1.00      0.98      2892\n",
      "\n",
      "    accuracy                           1.00     33897\n",
      "   macro avg       0.98      1.00      0.99     33897\n",
      "weighted avg       1.00      1.00      1.00     33897\n",
      "\n"
     ]
    }
   ],
   "source": [
    "# Classification report for train set\n",
    "print(classification_report(y_train, y_train_pred))"
   ]
  },
  {
   "cell_type": "code",
   "execution_count": 34,
   "metadata": {},
   "outputs": [
    {
     "name": "stdout",
     "output_type": "stream",
     "text": [
      "ROC AUC Score: 0.9129565635674084\n"
     ]
    }
   ],
   "source": [
    "from sklearn.metrics import roc_auc_score, roc_curve, auc\n",
    "import matplotlib.pyplot as plt\n",
    "\n",
    "# Get predicted probabilities for the positive class (class 1)\n",
    "y_proba = classifier.predict_proba(X_test)[:, 1]\n",
    "\n",
    "# Calculate ROC AUC score\n",
    "roc_auc = roc_auc_score(y_test, y_proba)\n",
    "print(\"ROC AUC Score:\", roc_auc)\n",
    "\n",
    "# Get ROC curve values\n",
    "fpr, tpr, thresholds = roc_curve(y_test, y_proba)\n"
   ]
  },
  {
   "cell_type": "code",
   "execution_count": 35,
   "metadata": {},
   "outputs": [
    {
     "data": {
      "image/png": "[encoded data removed]",
      "text/plain": [
       "<Figure size 800x600 with 1 Axes>"
      ]
     },
     "metadata": {},
     "output_type": "display_data"
    }
   ],
   "source": [
    "# Plot the ROC curve\n",
    "plt.figure(figsize=(8,6))\n",
    "plt.plot(fpr, tpr, label=f'XGBoost (AUC = {roc_auc:.3f})', color='darkorange', linewidth=2)\n",
    "plt.plot([0, 1], [0, 1], 'k--', label='Random Guess')\n",
    "plt.xlabel('False Positive Rate')\n",
    "plt.ylabel('True Positive Rate')\n",
    "plt.title('Receiver Operating Characteristic (ROC)')\n",
    "plt.legend(loc='lower right')\n",
    "plt.grid(True)\n",
    "plt.show()"
   ]
  },
  {
   "cell_type": "markdown",
   "metadata": {},
   "source": [
    "## Predictions"
   ]
  },
  {
   "cell_type": "code",
   "execution_count": 47,
   "metadata": {},
   "outputs": [
    {
     "name": "stdout",
     "output_type": "stream",
     "text": [
      "[CV] END colsample_bytree=1.0, gamma=0.5, learning_rate=0.01, max_depth=3, n_estimators=200, scale_pos_weight=1, subsample=0.6; total time=   0.8s\n",
      "[CV] END colsample_bytree=0.6, gamma=0.3, learning_rate=0.2, max_depth=10, n_estimators=300, scale_pos_weight=1, subsample=1.0; total time=   1.5s\n",
      "[CV] END colsample_bytree=0.6, gamma=0.5, learning_rate=0.2, max_depth=7, n_estimators=300, scale_pos_weight=1, subsample=1.0; total time=   1.1s\n",
      "[CV] END colsample_bytree=0.6, gamma=0.5, learning_rate=0.2, max_depth=7, n_estimators=300, scale_pos_weight=1, subsample=1.0; total time=   1.0s\n",
      "[CV] END colsample_bytree=0.6, gamma=0.5, learning_rate=0.2, max_depth=7, n_estimators=300, scale_pos_weight=1, subsample=1.0; total time=   1.1s\n",
      "[CV] END colsample_bytree=0.6, gamma=0.5, learning_rate=0.2, max_depth=3, n_estimators=300, scale_pos_weight=10.720954356846473, subsample=0.6; total time=   1.1s\n",
      "[CV] END colsample_bytree=0.6, gamma=0.5, learning_rate=0.2, max_depth=3, n_estimators=300, scale_pos_weight=10.720954356846473, subsample=0.6; total time=   1.1s\n",
      "[CV] END colsample_bytree=0.6, gamma=0.5, learning_rate=0.2, max_depth=3, n_estimators=300, scale_pos_weight=10.720954356846473, subsample=0.6; total time=   1.1s\n",
      "[CV] END colsample_bytree=1.0, gamma=0.3, learning_rate=0.1, max_depth=10, n_estimators=300, scale_pos_weight=1, subsample=1.0; total time=   2.9s\n",
      "[CV] END colsample_bytree=0.8, gamma=0.1, learning_rate=0.1, max_depth=10, n_estimators=100, scale_pos_weight=1, subsample=0.6; total time=   2.3s\n",
      "[CV] END colsample_bytree=0.6, gamma=0.1, learning_rate=0.1, max_depth=5, n_estimators=300, scale_pos_weight=10.720954356846473, subsample=0.8; total time=   1.7s\n",
      "[CV] END colsample_bytree=0.6, gamma=0.1, learning_rate=0.01, max_depth=7, n_estimators=200, scale_pos_weight=1, subsample=0.6; total time=   2.3s\n",
      "[CV] END colsample_bytree=0.8, gamma=0.1, learning_rate=0.01, max_depth=7, n_estimators=200, scale_pos_weight=1, subsample=0.6; total time=   2.9s\n",
      "[CV] END colsample_bytree=1.0, gamma=0.5, learning_rate=0.2, max_depth=10, n_estimators=200, scale_pos_weight=1, subsample=0.6; total time=   3.0s\n",
      "[CV] END colsample_bytree=1.0, gamma=0.5, learning_rate=0.01, max_depth=3, n_estimators=100, scale_pos_weight=10.720954356846473, subsample=0.6; total time=   0.5s\n",
      "[CV] END colsample_bytree=1.0, gamma=0.3, learning_rate=0.01, max_depth=7, n_estimators=100, scale_pos_weight=10.720954356846473, subsample=0.6; total time=   2.2s\n",
      "[CV] END colsample_bytree=0.8, gamma=0.1, learning_rate=0.2, max_depth=5, n_estimators=200, scale_pos_weight=10.720954356846473, subsample=1.0; total time=   1.6s\n",
      "[CV] END colsample_bytree=0.8, gamma=0.1, learning_rate=0.2, max_depth=5, n_estimators=200, scale_pos_weight=10.720954356846473, subsample=1.0; total time=   1.3s\n",
      "[CV] END colsample_bytree=1.0, gamma=0.5, learning_rate=0.1, max_depth=10, n_estimators=300, scale_pos_weight=1, subsample=1.0; total time=   2.3s\n",
      "[CV] END colsample_bytree=0.6, gamma=0.3, learning_rate=0.1, max_depth=7, n_estimators=300, scale_pos_weight=1, subsample=0.8; total time=   2.9s\n",
      "[CV] END colsample_bytree=1.0, gamma=0.1, learning_rate=0.2, max_depth=7, n_estimators=200, scale_pos_weight=10.720954356846473, subsample=0.6; total time=   3.3s\n",
      "[CV] END colsample_bytree=1.0, gamma=0, learning_rate=0.05, max_depth=10, n_estimators=100, scale_pos_weight=10.720954356846473, subsample=0.6; total time=   5.7s\n",
      "[CV] END colsample_bytree=0.6, gamma=0.5, learning_rate=0.05, max_depth=5, n_estimators=100, scale_pos_weight=1, subsample=0.8; total time=   1.0s\n",
      "[CV] END colsample_bytree=0.6, gamma=0.5, learning_rate=0.05, max_depth=5, n_estimators=100, scale_pos_weight=1, subsample=0.8; total time=   0.8s\n",
      "[CV] END colsample_bytree=0.6, gamma=0.5, learning_rate=0.05, max_depth=5, n_estimators=100, scale_pos_weight=1, subsample=0.8; total time=   1.1s\n",
      "[CV] END colsample_bytree=1.0, gamma=0, learning_rate=0.01, max_depth=5, n_estimators=100, scale_pos_weight=1, subsample=1.0; total time=   1.3s\n",
      "[CV] END colsample_bytree=1.0, gamma=0, learning_rate=0.01, max_depth=5, n_estimators=100, scale_pos_weight=1, subsample=1.0; total time=   1.2s\n",
      "[CV] END colsample_bytree=0.8, gamma=0, learning_rate=0.01, max_depth=5, n_estimators=300, scale_pos_weight=1, subsample=1.0; total time=   2.6s\n",
      "[CV] END colsample_bytree=0.6, gamma=0.1, learning_rate=0.1, max_depth=5, n_estimators=200, scale_pos_weight=10.720954356846473, subsample=0.6; total time=   1.6s\n",
      "[CV] END colsample_bytree=1.0, gamma=0.5, learning_rate=0.2, max_depth=3, n_estimators=100, scale_pos_weight=1, subsample=0.8; total time=   0.6s\n",
      "[CV] END colsample_bytree=1.0, gamma=0.5, learning_rate=0.2, max_depth=3, n_estimators=100, scale_pos_weight=1, subsample=0.8; total time=   0.5s\n"
     ]
    },
    {
     "name": "stderr",
     "output_type": "stream",
     "text": [
      "Exception ignored in: <function ResourceTracker.__del__ at 0x79b4f67842c0>\n",
      "Traceback (most recent call last):\n",
      "  File \"/home/funsho-oyedele/anaconda3/lib/python3.13/multiprocessing/resource_tracker.py\", line 82, in __del__\n",
      "  File \"/home/funsho-oyedele/anaconda3/lib/python3.13/multiprocessing/resource_tracker.py\", line 91, in _stop\n",
      "  File \"/home/funsho-oyedele/anaconda3/lib/python3.13/multiprocessing/resource_tracker.py\", line 116, in _stop_locked\n",
      "ChildProcessError: [Errno 10] No child processes\n",
      "Exception ignored in: <function ResourceTracker.__del__ at 0x739216f842c0>\n",
      "Traceback (most recent call last):\n",
      "  File \"/home/funsho-oyedele/anaconda3/lib/python3.13/multiprocessing/resource_tracker.py\", line 82, in __del__\n",
      "  File \"/home/funsho-oyedele/anaconda3/lib/python3.13/multiprocessing/resource_tracker.py\", line 91, in _stop\n",
      "  File \"/home/funsho-oyedele/anaconda3/lib/python3.13/multiprocessing/resource_tracker.py\", line 116, in _stop_locked\n",
      "ChildProcessError: [Errno 10] No child processes\n"
     ]
    },
    {
     "name": "stdout",
     "output_type": "stream",
     "text": [
      "[CV] END colsample_bytree=0.6, gamma=0.3, learning_rate=0.2, max_depth=10, n_estimators=300, scale_pos_weight=1, subsample=1.0; total time=   1.6s\n",
      "[CV] END colsample_bytree=0.8, gamma=0, learning_rate=0.05, max_depth=10, n_estimators=300, scale_pos_weight=10.720954356846473, subsample=0.8; total time=   7.8s\n",
      "[CV] END colsample_bytree=1.0, gamma=0.3, learning_rate=0.1, max_depth=10, n_estimators=300, scale_pos_weight=1, subsample=1.0; total time=   3.3s\n",
      "[CV] END colsample_bytree=0.8, gamma=0.5, learning_rate=0.1, max_depth=3, n_estimators=200, scale_pos_weight=10.720954356846473, subsample=0.6; total time=   0.9s\n",
      "[CV] END colsample_bytree=0.6, gamma=0.1, learning_rate=0.1, max_depth=5, n_estimators=300, scale_pos_weight=10.720954356846473, subsample=0.8; total time=   1.7s\n",
      "[CV] END colsample_bytree=0.8, gamma=0, learning_rate=0.05, max_depth=3, n_estimators=300, scale_pos_weight=1, subsample=1.0; total time=   1.1s\n",
      "[CV] END colsample_bytree=0.8, gamma=0.1, learning_rate=0.01, max_depth=7, n_estimators=200, scale_pos_weight=1, subsample=0.6; total time=   2.7s\n",
      "[CV] END colsample_bytree=0.8, gamma=0.5, learning_rate=0.05, max_depth=7, n_estimators=200, scale_pos_weight=10.720954356846473, subsample=1.0; total time=   3.0s\n",
      "[CV] END colsample_bytree=1.0, gamma=0.5, learning_rate=0.2, max_depth=10, n_estimators=200, scale_pos_weight=1, subsample=0.6; total time=   2.7s\n",
      "[CV] END colsample_bytree=0.6, gamma=0, learning_rate=0.05, max_depth=10, n_estimators=100, scale_pos_weight=10.720954356846473, subsample=0.8; total time=   3.4s\n",
      "[CV] END colsample_bytree=0.8, gamma=0.1, learning_rate=0.2, max_depth=5, n_estimators=200, scale_pos_weight=10.720954356846473, subsample=1.0; total time=   1.3s\n",
      "[CV] END colsample_bytree=1.0, gamma=0.5, learning_rate=0.1, max_depth=10, n_estimators=300, scale_pos_weight=1, subsample=1.0; total time=   2.2s\n",
      "[CV] END colsample_bytree=0.6, gamma=0.3, learning_rate=0.1, max_depth=7, n_estimators=300, scale_pos_weight=1, subsample=0.8; total time=   2.7s\n",
      "[CV] END colsample_bytree=0.8, gamma=0.1, learning_rate=0.05, max_depth=3, n_estimators=100, scale_pos_weight=10.720954356846473, subsample=0.6; total time=   0.5s\n",
      "[CV] END colsample_bytree=1.0, gamma=0.1, learning_rate=0.2, max_depth=7, n_estimators=200, scale_pos_weight=10.720954356846473, subsample=0.6; total time=   3.2s\n",
      "[CV] END colsample_bytree=1.0, gamma=0, learning_rate=0.05, max_depth=10, n_estimators=100, scale_pos_weight=10.720954356846473, subsample=0.6; total time=   5.4s\n",
      "[CV] END colsample_bytree=0.8, gamma=0, learning_rate=0.01, max_depth=10, n_estimators=200, scale_pos_weight=10.720954356846473, subsample=0.6; total time=   9.5s\n",
      "[CV] END colsample_bytree=0.6, gamma=0.1, learning_rate=0.1, max_depth=5, n_estimators=200, scale_pos_weight=10.720954356846473, subsample=0.6; total time=   1.5s\n",
      "[CV] END colsample_bytree=1.0, gamma=0.5, learning_rate=0.01, max_depth=3, n_estimators=200, scale_pos_weight=1, subsample=0.6; total time=   0.8s\n",
      "[CV] END colsample_bytree=0.6, gamma=0.3, learning_rate=0.2, max_depth=10, n_estimators=300, scale_pos_weight=1, subsample=1.0; total time=   1.5s\n",
      "[CV] END colsample_bytree=0.8, gamma=0, learning_rate=0.05, max_depth=10, n_estimators=300, scale_pos_weight=10.720954356846473, subsample=0.8; total time=   7.7s\n",
      "[CV] END colsample_bytree=0.8, gamma=0.1, learning_rate=0.1, max_depth=10, n_estimators=100, scale_pos_weight=1, subsample=0.6; total time=   2.8s\n",
      "[CV] END colsample_bytree=0.8, gamma=0.5, learning_rate=0.1, max_depth=3, n_estimators=200, scale_pos_weight=10.720954356846473, subsample=0.6; total time=   0.9s\n",
      "[CV] END colsample_bytree=0.6, gamma=0.1, learning_rate=0.1, max_depth=5, n_estimators=300, scale_pos_weight=10.720954356846473, subsample=0.8; total time=   1.8s\n",
      "[CV] END colsample_bytree=0.8, gamma=0, learning_rate=0.05, max_depth=3, n_estimators=300, scale_pos_weight=1, subsample=1.0; total time=   1.1s\n",
      "[CV] END colsample_bytree=0.6, gamma=0.1, learning_rate=0.01, max_depth=7, n_estimators=200, scale_pos_weight=1, subsample=0.6; total time=   2.4s\n",
      "[CV] END colsample_bytree=0.8, gamma=0.5, learning_rate=0.05, max_depth=7, n_estimators=200, scale_pos_weight=10.720954356846473, subsample=1.0; total time=   2.8s\n",
      "[CV] END colsample_bytree=1.0, gamma=0.5, learning_rate=0.2, max_depth=10, n_estimators=200, scale_pos_weight=1, subsample=0.6; total time=   2.6s\n",
      "[CV] END colsample_bytree=1.0, gamma=0.3, learning_rate=0.01, max_depth=7, n_estimators=100, scale_pos_weight=10.720954356846473, subsample=0.6; total time=   2.1s\n",
      "[CV] END colsample_bytree=0.6, gamma=0, learning_rate=0.05, max_depth=10, n_estimators=100, scale_pos_weight=10.720954356846473, subsample=0.8; total time=   3.4s\n",
      "[CV] END colsample_bytree=1.0, gamma=0.5, learning_rate=0.1, max_depth=10, n_estimators=300, scale_pos_weight=1, subsample=1.0; total time=   2.5s\n",
      "[CV] END colsample_bytree=1.0, gamma=0, learning_rate=0.05, max_depth=3, n_estimators=300, scale_pos_weight=10.720954356846473, subsample=0.6; total time=   1.4s\n",
      "[CV] END colsample_bytree=1.0, gamma=0, learning_rate=0.05, max_depth=3, n_estimators=300, scale_pos_weight=10.720954356846473, subsample=0.6; total time=   1.3s\n",
      "[CV] END colsample_bytree=0.8, gamma=0.1, learning_rate=0.05, max_depth=3, n_estimators=100, scale_pos_weight=10.720954356846473, subsample=0.6; total time=   0.5s\n",
      "[CV] END colsample_bytree=1.0, gamma=0, learning_rate=0.05, max_depth=10, n_estimators=100, scale_pos_weight=10.720954356846473, subsample=0.6; total time=   4.8s\n",
      "[CV] END colsample_bytree=0.8, gamma=0, learning_rate=0.01, max_depth=10, n_estimators=200, scale_pos_weight=10.720954356846473, subsample=0.6; total time=  10.6s\n",
      "[CV] END colsample_bytree=0.8, gamma=0, learning_rate=0.01, max_depth=5, n_estimators=300, scale_pos_weight=1, subsample=1.0; total time=   3.3s\n",
      "[CV] END colsample_bytree=1.0, gamma=0.5, learning_rate=0.2, max_depth=3, n_estimators=100, scale_pos_weight=1, subsample=0.8; total time=   0.5s\n"
     ]
    },
    {
     "name": "stderr",
     "output_type": "stream",
     "text": [
      "Exception ignored in: <function ResourceTracker.__del__ at 0x76032777c2c0>\n",
      "Traceback (most recent call last):\n",
      "  File \"/home/funsho-oyedele/anaconda3/lib/python3.13/multiprocessing/resource_tracker.py\", line 82, in __del__\n",
      "  File \"/home/funsho-oyedele/anaconda3/lib/python3.13/multiprocessing/resource_tracker.py\", line 91, in _stop\n",
      "  File \"/home/funsho-oyedele/anaconda3/lib/python3.13/multiprocessing/resource_tracker.py\", line 116, in _stop_locked\n",
      "ChildProcessError: [Errno 10] No child processes\n",
      "Exception ignored in: <function ResourceTracker.__del__ at 0x723cda3842c0>\n",
      "Traceback (most recent call last):\n",
      "  File \"/home/funsho-oyedele/anaconda3/lib/python3.13/multiprocessing/resource_tracker.py\", line 82, in __del__\n",
      "  File \"/home/funsho-oyedele/anaconda3/lib/python3.13/multiprocessing/resource_tracker.py\", line 91, in _stop\n",
      "  File \"/home/funsho-oyedele/anaconda3/lib/python3.13/multiprocessing/resource_tracker.py\", line 116, in _stop_locked\n",
      "ChildProcessError: [Errno 10] No child processes\n"
     ]
    },
    {
     "name": "stdout",
     "output_type": "stream",
     "text": [
      "[CV] END colsample_bytree=1.0, gamma=0.5, learning_rate=0.01, max_depth=3, n_estimators=200, scale_pos_weight=1, subsample=0.6; total time=   0.8s\n",
      "[CV] END colsample_bytree=0.8, gamma=0, learning_rate=0.05, max_depth=10, n_estimators=300, scale_pos_weight=10.720954356846473, subsample=0.8; total time=   7.4s\n",
      "[CV] END colsample_bytree=1.0, gamma=0.3, learning_rate=0.1, max_depth=10, n_estimators=300, scale_pos_weight=1, subsample=1.0; total time=   2.7s\n",
      "[CV] END colsample_bytree=0.8, gamma=0.1, learning_rate=0.1, max_depth=10, n_estimators=100, scale_pos_weight=1, subsample=0.6; total time=   2.5s\n",
      "[CV] END colsample_bytree=0.8, gamma=0.5, learning_rate=0.1, max_depth=3, n_estimators=200, scale_pos_weight=10.720954356846473, subsample=0.6; total time=   0.8s\n",
      "[CV] END colsample_bytree=0.8, gamma=0, learning_rate=0.05, max_depth=3, n_estimators=300, scale_pos_weight=1, subsample=1.0; total time=   1.1s\n",
      "[CV] END colsample_bytree=0.6, gamma=0.1, learning_rate=0.01, max_depth=7, n_estimators=200, scale_pos_weight=1, subsample=0.6; total time=   2.3s\n",
      "[CV] END colsample_bytree=0.8, gamma=0.1, learning_rate=0.01, max_depth=7, n_estimators=200, scale_pos_weight=1, subsample=0.6; total time=   2.8s\n",
      "[CV] END colsample_bytree=0.8, gamma=0.5, learning_rate=0.05, max_depth=7, n_estimators=200, scale_pos_weight=10.720954356846473, subsample=1.0; total time=   2.9s\n",
      "[CV] END colsample_bytree=1.0, gamma=0.5, learning_rate=0.01, max_depth=3, n_estimators=100, scale_pos_weight=10.720954356846473, subsample=0.6; total time=   0.5s\n",
      "[CV] END colsample_bytree=1.0, gamma=0.5, learning_rate=0.01, max_depth=3, n_estimators=100, scale_pos_weight=10.720954356846473, subsample=0.6; total time=   0.5s\n",
      "[CV] END colsample_bytree=1.0, gamma=0.3, learning_rate=0.01, max_depth=7, n_estimators=100, scale_pos_weight=10.720954356846473, subsample=0.6; total time=   2.0s\n",
      "[CV] END colsample_bytree=0.6, gamma=0, learning_rate=0.05, max_depth=10, n_estimators=100, scale_pos_weight=10.720954356846473, subsample=0.8; total time=   3.7s\n",
      "[CV] END colsample_bytree=0.6, gamma=0.3, learning_rate=0.1, max_depth=7, n_estimators=300, scale_pos_weight=1, subsample=0.8; total time=   3.1s\n",
      "[CV] END colsample_bytree=1.0, gamma=0, learning_rate=0.05, max_depth=3, n_estimators=300, scale_pos_weight=10.720954356846473, subsample=0.6; total time=   1.3s\n",
      "[CV] END colsample_bytree=0.8, gamma=0.1, learning_rate=0.05, max_depth=3, n_estimators=100, scale_pos_weight=10.720954356846473, subsample=0.6; total time=   0.5s\n",
      "[CV] END colsample_bytree=1.0, gamma=0.1, learning_rate=0.2, max_depth=7, n_estimators=200, scale_pos_weight=10.720954356846473, subsample=0.6; total time=   3.2s\n",
      "[CV] END colsample_bytree=0.8, gamma=0, learning_rate=0.01, max_depth=10, n_estimators=200, scale_pos_weight=10.720954356846473, subsample=0.6; total time=  10.7s\n",
      "[CV] END colsample_bytree=1.0, gamma=0, learning_rate=0.01, max_depth=5, n_estimators=100, scale_pos_weight=1, subsample=1.0; total time=   1.2s\n",
      "[CV] END colsample_bytree=0.8, gamma=0, learning_rate=0.01, max_depth=5, n_estimators=300, scale_pos_weight=1, subsample=1.0; total time=   3.2s\n",
      "[CV] END colsample_bytree=0.6, gamma=0.1, learning_rate=0.1, max_depth=5, n_estimators=200, scale_pos_weight=10.720954356846473, subsample=0.6; total time=   1.4s\n"
     ]
    }
   ],
   "source": [
    "import pandas as pd\n",
    "import numpy as np\n",
    "from sklearn.preprocessing import StandardScaler\n",
    "from sklearn.linear_model import LogisticRegression\n",
    "\n",
    "# Assume these are your trained scaler (sc) and classifier for demonstration purposes.\n",
    "# In a real scenario, you'd load your pre-trained scaler and model.\n",
    "# For this example, let's create dummy ones.\n",
    "# Ensure the columns here match the order and names used during actual training.\n",
    "dummy_data_for_scaler = pd.DataFrame(np.random.rand(100, 6), columns=[\n",
    "    'std_consumption', 'mean_daily_diff', 'mean_rolling_deviation', 'mean_consumption', \n",
    "    'max_consumption', 'num_z_outliers'\n",
    "])\n",
    "sc = StandardScaler()\n",
    "sc.fit(dummy_data_for_scaler)\n",
    "\n",
    "classifier = LogisticRegression()\n",
    "# A dummy fit for the classifier\n",
    "classifier.fit(sc.transform(dummy_data_for_scaler), np.random.randint(0, 2, 100))\n",
    "\n",
    "\n",
    "# Creating a function for prediction\n",
    "def predict_theft(std_consumption, mean_daily_diff, mean_rolling_deviation, mean_consumption, max_consumption,\n",
    "                  num_z_outliers):\n",
    "    # It's good practice to ensure types, but pandas DataFrame creation handles this robustly\n",
    "    # for single-row inputs.\n",
    "    \n",
    "    # Create a Pandas DataFrame from the input values with appropriate column names\n",
    "    input_data_df = pd.DataFrame([[std_consumption, mean_daily_diff, mean_rolling_deviation, mean_consumption, max_consumption,\n",
    "                  num_z_outliers]],\n",
    "                                 columns=['std_consumption', 'mean_daily_diff', 'mean_rolling_deviation', 'mean_consumption',\n",
    "                                          'max_consumption', 'num_z_outliers'])\n",
    "    \n",
    "    # Transform the DataFrame using the fitted StandardScaler\n",
    "    x_scaled = sc.transform(input_data_df)\n",
    "    \n",
    "    # Make the prediction\n",
    "    return classifier.predict(x_scaled)"
   ]
  },
  {
   "cell_type": "code",
   "execution_count": 48,
   "metadata": {},
   "outputs": [
    {
     "name": "stdout",
     "output_type": "stream",
     "text": [
      "Theft\n"
     ]
    }
   ],
   "source": [
    "# Prediction 1\n",
    "# Input sequence: std_consumption, mean_daily_diff, mean_rolling_deviation, mean_consumption, \n",
    "# max_consumption, num_z_outliers\n",
    "prediction = predict_theft(6.844979, 0.833226, 0.978513, 4.348694, 44.57, 14.0)[0]\n",
    "if prediction:\n",
    "  print('Theft')\n",
    "else:\n",
    "  print(\"Non-Theft\")"
   ]
  },
  {
   "cell_type": "code",
   "execution_count": 49,
   "metadata": {},
   "outputs": [
    {
     "name": "stdout",
     "output_type": "stream",
     "text": [
      "Theft\n"
     ]
    }
   ],
   "source": [
    "# Prediction 2\n",
    "# Input sequence: std_consumption, mean_daily_diff, mean_rolling_deviation, mean_consumption, \n",
    "# max_consumption, num_z_outliers\n",
    "prediction = predict_theft(103.241286, 5.174534, 6.668070, 9.892740, 3318.0, 1.0)[0]\n",
    "if prediction:\n",
    "  print('Theft')\n",
    "else:\n",
    "  print(\"Non-Theft\")"
   ]
  },
  {
   "cell_type": "code",
   "execution_count": 50,
   "metadata": {},
   "outputs": [
    {
     "name": "stdout",
     "output_type": "stream",
     "text": [
      "Theft\n"
     ]
    }
   ],
   "source": [
    "# Prediction 3\n",
    "# Input sequence: std_consumption, mean_daily_diff, mean_rolling_deviation, mean_consumption, \n",
    "# max_consumption, num_z_outliers\n",
    "prediction = predict_theft(3.101514, 0.223178, 0.248229, 0.947796, 18.29, 47.0)[0]\n",
    "if prediction:\n",
    "  print('Theft')\n",
    "else:\n",
    "  print(\"Non-Theft\")"
   ]
  },
  {
   "cell_type": "code",
   "execution_count": null,
   "metadata": {},
   "outputs": [],
   "source": []
  }
 ],
 "metadata": {
  "kernelspec": {
   "display_name": "Python 3 (ipykernel)",
   "language": "python",
   "name": "python3"
  },
  "language_info": {
   "codemirror_mode": {
    "name": "ipython",
    "version": 3
   },
   "file_extension": ".py",
   "mimetype": "text/x-python",
   "name": "python",
   "nbconvert_exporter": "python",
   "pygments_lexer": "ipython3",
   "version": "3.13.5"
  }
 },
 "nbformat": 4,
 "nbformat_minor": 4
}
