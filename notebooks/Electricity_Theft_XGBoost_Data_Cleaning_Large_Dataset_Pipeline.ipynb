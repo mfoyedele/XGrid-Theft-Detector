{
 "cells": [
  {
   "cell_type": "markdown",
   "id": "d4b1203c",
   "metadata": {},
   "source": [
    "# Electricity Theft Detection with Real-Time Input using XGBoost"
   ]
  },
  {
   "cell_type": "markdown",
   "id": "0bb63643",
   "metadata": {},
   "source": [
    "\n",
    "This notebook implements an electricity theft detection pipeline based on the SGCC dataset, using XGBoost for dimensionality reduction. It includes support for:\n",
    "- Data cleaning and preprocessing\n",
    "- Synthetic data generation for class balancing\n",
    "- Feature extraction (time and frequency domain)\n",
    "- Hyperparameter tuning with Bayesian optimization\n",
    "- Real-time classification for new consumption records\n"
   ]
  },
  {
   "cell_type": "code",
   "execution_count": 1,
   "id": "9cad214b",
   "metadata": {},
   "outputs": [],
   "source": [
    "\n",
    "# !pip install pandas numpy scikit-learn tensorflow scikit-optimize matplotlib\n"
   ]
  },
  {
   "cell_type": "code",
   "execution_count": 21,
   "id": "b22e4828",
   "metadata": {},
   "outputs": [],
   "source": [
    "\n",
    "import pandas as pd\n",
    "import numpy as np\n",
    "import seaborn as sns\n",
    "import matplotlib.pyplot as plt\n",
    "\n",
    "from scipy.fft import fft\n",
    "from scipy.interpolate import PchipInterpolator\n",
    "from sklearn.model_selection import train_test_split\n",
    "from sklearn.decomposition import PCA\n",
    "from sklearn.metrics import classification_report, roc_auc_score\n",
    "from skopt import gp_minimize\n",
    "from sklearn.preprocessing import StandardScaler\n",
    "from skopt.space import Integer, Real\n",
    "from skopt.utils import use_named_args\n",
    "from imblearn.over_sampling import SMOTE\n"
   ]
  },
  {
   "cell_type": "code",
   "execution_count": 3,
   "id": "5b99092e",
   "metadata": {},
   "outputs": [],
   "source": [
    "\n",
    "# The original State Grid Corporation of China (SGCC) dataset used for training models in this project \n",
    "# contains 42,372 rows and 1,036 columns. It was utilized for extensive data cleaning and \n",
    "# feature selection to train the XGBoost model.\n",
    "\n",
    "# Due to its large size (~163 MB), it cannot be hosted directly on GitHub, \n",
    "# but it is available on Kaggle: https://www.kaggle.com/datasets/bensalem14/sgcc-dataset\n",
    "\n",
    "# For demonstration and preview purposes, refer to `Electricity_Theft_XGBoost_Data_Cleaning_Small_Dataset_Pipeline.ipynb` located in the `/data/raw` directory.\n",
    "\n",
    "# Load the dataset\n",
    "df = pd.read_csv('../data/raw/dataset.csv')  \n"
   ]
  },
  {
   "cell_type": "code",
   "execution_count": null,
   "id": "6b638abf-92cc-46a2-8a7d-cc9576c4aabd",
   "metadata": {},
   "outputs": [],
   "source": [
    "\n",
    "# I will drop the CONS_NO column since it seems to provide no information as well as being of string type\n",
    "df = df.drop(\"CONS_NO\", axis=1)\n",
    "\n",
    "df = df[(df.iloc[:, 1:-1] != 0).any(axis=1)]\n",
    "\n",
    "def interpolate_row(row):\n",
    "    x = np.arange(len(row))\n",
    "    valid = ~row.isna()\n",
    "    if valid.sum() < 2:\n",
    "        return row\n",
    "    f = PchipInterpolator(x[valid], row[valid])\n",
    "    return pd.Series(f(x))\n",
    "\n",
    "usage_data = df.iloc[:, 1:-1]\n",
    "usage_data = usage_data.apply(interpolate_row, axis=1)\n",
    "df.iloc[:, 1:-1] = usage_data\n"
   ]
  },
  {
   "cell_type": "code",
   "execution_count": 4,
   "id": "aa77c7e9-485e-482e-9e85-ecf68ae9c2d4",
   "metadata": {},
   "outputs": [
    {
     "name": "stdout",
     "output_type": "stream",
     "text": [
      "Class distribution after addition:\n",
      "FLAG\n",
      "1    38757\n",
      "0    38757\n",
      "Name: count, dtype: int64\n"
     ]
    }
   ],
   "source": [
    "\n",
    "# Synthetic data generation for class balancing\n",
    "def generate_synthetic_samples(df_clean, target_col='FLAG'):\n",
    "    majority = df_clean[df_clean[target_col] == 0]\n",
    "    minority = df_clean[df_clean[target_col] == 1]\n",
    "    diff = len(majority) - len(minority)\n",
    "    if diff <= 0:\n",
    "        return df_clean\n",
    "    synthetic = majority.sample(n=diff, random_state=42).copy()\n",
    "    synthetic_data = synthetic.iloc[:, 1:-1].values * np.random.rand(diff, synthetic.shape[1] - 2)\n",
    "\n",
    "    synthetic_df = pd.DataFrame(synthetic_data, columns=synthetic.columns[1:-1])\n",
    "    synthetic_df['FLAG'] = 1\n",
    "    return pd.concat([df_clean, synthetic_df], ignore_index=True)\n",
    "\n",
    "df['FLAG'] = df['FLAG'].astype(int)\n",
    "df = generate_synthetic_samples(df)\n",
    "\n",
    "# --- Check Balance ---\n",
    "print(\"Class distribution after addition:\")\n",
    "print(df['FLAG'].value_counts())\n"
   ]
  },
  {
   "cell_type": "code",
   "execution_count": 5,
   "id": "b48e2ecd-5ef5-4e5c-8f92-0eb94fadfb11",
   "metadata": {},
   "outputs": [
    {
     "data": {
      "text/plain": [
       "<bound method DataFrame.info of        1/1/2014      1/2/2014       1/3/2014      1/4/2014    1/5/2014  \\\n",
       "0           0.0  0.000000e+00       0.010000  0.000000e+00    0.000000   \n",
       "1           0.0  0.000000e+00       0.000000  0.000000e+00    0.000000   \n",
       "2           0.0  0.000000e+00       0.000000  0.000000e+00    0.000000   \n",
       "3           0.0  0.000000e+00       0.000000  0.000000e+00    0.000000   \n",
       "4           0.0  0.000000e+00       0.000000  0.000000e+00    0.000000   \n",
       "...         ...           ...            ...           ...         ...   \n",
       "77509       NaN  3.992012e+06  355886.919680  2.821497e+06  164.236538   \n",
       "77510       NaN  1.540747e+01      13.016436  6.808182e+00    9.975752   \n",
       "77511       NaN  7.233658e+00       1.854659  5.471739e+00    4.491600   \n",
       "77512       NaN  1.705002e-02       0.032311  1.302021e+00    1.220575   \n",
       "77513       NaN  1.591562e+00       2.085901  4.065039e-01    0.944656   \n",
       "\n",
       "            1/6/2014      1/7/2014      1/8/2014      1/9/2014     1/10/2014  \\\n",
       "0           0.000000  0.000000e+00  0.000000e+00  0.000000e+00  0.000000e+00   \n",
       "1           0.000000  0.000000e+00  0.000000e+00  0.000000e+00  0.000000e+00   \n",
       "2           4.980000  9.870000e+00  1.129000e+01  1.344000e+01  1.134000e+01   \n",
       "3           0.000000  0.000000e+00  0.000000e+00  0.000000e+00  0.000000e+00   \n",
       "4           0.000000  0.000000e+00  0.000000e+00  0.000000e+00  0.000000e+00   \n",
       "...              ...           ...           ...           ...           ...   \n",
       "77509  840064.346819  4.873951e+06  4.362733e+06  1.148248e+06  7.495583e+06   \n",
       "77510      18.044573  1.874497e+01  0.000000e+00  0.000000e+00  7.630897e+01   \n",
       "77511       1.762649  2.942657e+00  3.138281e-01  0.000000e+00  0.000000e+00   \n",
       "77512       0.923291  2.949221e+00  2.241515e+00  3.432199e+00  2.561632e+00   \n",
       "77513       0.224998  6.311983e-01  1.368033e+00  1.218456e+00  1.686563e+00   \n",
       "\n",
       "       ...  10/23/2016  10/24/2016  10/25/2016  10/26/2016  10/27/2016  \\\n",
       "0      ...    0.830000    0.020000    0.060000    0.580000    0.890000   \n",
       "1      ...   23.910000   17.130000   14.320000   16.370000   26.330000   \n",
       "2      ...    1.436766    1.431531    1.430000    2.220000    2.410000   \n",
       "3      ...   19.500000   20.980000   18.470000   15.500000   14.800000   \n",
       "4      ...    2.590000    0.610000    1.330000    0.550000    1.620000   \n",
       "...    ...         ...         ...         ...         ...         ...   \n",
       "77509  ...    5.224120    1.080903    0.153084    4.198740    1.189800   \n",
       "77510  ...    3.648733    1.238024    1.105596    3.013575    1.646159   \n",
       "77511  ...    4.855439    3.169917    2.151124    2.940087    4.201608   \n",
       "77512  ...    0.441427    1.592641    2.328144    0.118047    0.045101   \n",
       "77513  ...    1.765196    0.909011    0.870360    1.850828    0.258208   \n",
       "\n",
       "       10/28/2016  10/29/2016  10/30/2016  10/31/2016  FLAG  \n",
       "0        0.350000    0.380000    0.700000    0.250000     1  \n",
       "1       19.060000   17.380000   13.940000   14.140000     1  \n",
       "2        3.480000    2.890000    1.880000    1.160000     1  \n",
       "3       19.280000   16.100000   17.510000   16.670000     1  \n",
       "4        1.530000    2.100000    1.160000    2.130000     1  \n",
       "...           ...         ...         ...         ...   ...  \n",
       "77509    6.535039    1.283416    2.551979    3.377330     1  \n",
       "77510    0.781674    2.405903    1.165101    4.020926     1  \n",
       "77511    3.076432    2.297145    3.379430    2.736797     1  \n",
       "77512    0.257065    2.427866    0.049198    0.379474     1  \n",
       "77513    3.651980    2.207567    0.461450    3.652529     1  \n",
       "\n",
       "[77514 rows x 1035 columns]>"
      ]
     },
     "execution_count": 5,
     "metadata": {},
     "output_type": "execute_result"
    }
   ],
   "source": [
    "\n",
    "df.info\n"
   ]
  },
  {
   "cell_type": "code",
   "execution_count": 6,
   "id": "34508ce7-4db0-46c2-be57-0008d2aa14bb",
   "metadata": {},
   "outputs": [
    {
     "data": {
      "text/plain": [
       "FLAG\n",
       "1    38757\n",
       "0    38757\n",
       "Name: count, dtype: int64"
      ]
     },
     "execution_count": 6,
     "metadata": {},
     "output_type": "execute_result"
    }
   ],
   "source": [
    "\n",
    "# Check the number of instances of each class\n",
    "class_counts = df['FLAG'].value_counts()\n",
    "class_counts\n"
   ]
  },
  {
   "cell_type": "code",
   "execution_count": 22,
   "id": "d47cbdbe-5567-4bf9-b691-fea771235549",
   "metadata": {},
   "outputs": [
    {
     "data": {
      "text/plain": [
       "Text(0.5, 1.0, 'FLAG Imbalanced Distribution')"
      ]
     },
     "execution_count": 22,
     "metadata": {},
     "output_type": "execute_result"
    },
    {
     "data": {
      "image/png": "[encoded data removed]",
      "text/plain": [
       "<Figure size 640x480 with 1 Axes>"
      ]
     },
     "metadata": {},
     "output_type": "display_data"
    }
   ],
   "source": [
    "\n",
    "# Now having a balance label\n",
    "sns.countplot(x=df['FLAG'])\n",
    "plt.title('FLAG Imbalanced Distribution', fontsize=14)\n"
   ]
  },
  {
   "cell_type": "code",
   "execution_count": 8,
   "id": "edaccca6-57e2-43f4-bbec-f957da405e0d",
   "metadata": {},
   "outputs": [
    {
     "name": "stdout",
     "output_type": "stream",
     "text": [
      "1/1/2014      66.625384\n",
      "1/2/2014       0.009031\n",
      "1/3/2014       0.009031\n",
      "1/4/2014       0.009031\n",
      "1/5/2014       0.009031\n",
      "                ...    \n",
      "10/28/2016     0.009031\n",
      "10/29/2016     0.009031\n",
      "10/30/2016     0.009031\n",
      "10/31/2016     0.009031\n",
      "FLAG           0.000000\n",
      "Length: 1035, dtype: float64\n",
      "Missing values per column:\n",
      "[51644, 7, 7, 7, 7, 7, 7, 7, 7, 7, 7, 7, 7, 7, 7, 7, 7, 7, 7, 7, 7, 7, 7, 7, 7, 7, 7, 7, 7, 7, 7, 7, 7, 7, 7, 7, 7, 7, 7, 7, 7, 7, 7, 7, 7, 7, 7, 7, 7, 7, 7, 7, 7, 7, 7, 7, 7, 7, 7, 7, 7, 7, 7, 7, 7, 7, 7, 7, 7, 7, 7, 7, 7, 7, 7, 7, 7, 7, 7, 7, 7, 7, 7, 7, 7, 7, 7, 7, 7, 7, 7, 7, 7, 7, 7, 7, 7, 7, 7, 7, 7, 7, 7, 7, 7, 7, 7, 7, 7, 7, 7, 7, 7, 7, 7, 7, 7, 7, 7, 7, 7, 7, 7, 7, 7, 7, 7, 7, 7, 7, 7, 7, 7, 7, 7, 7, 7, 7, 7, 7, 7, 7, 7, 7, 7, 7, 7, 7, 7, 7, 7, 7, 7, 7, 7, 7, 7, 7, 7, 7, 7, 7, 7, 7, 7, 7, 7, 7, 7, 7, 7, 7, 7, 7, 7, 7, 7, 7, 7, 7, 7, 7, 7, 7, 7, 7, 7, 7, 7, 7, 7, 7, 7, 7, 7, 7, 7, 7, 7, 7, 7, 7, 7, 7, 7, 7, 7, 7, 7, 7, 7, 7, 7, 7, 7, 7, 7, 7, 7, 7, 7, 7, 7, 7, 7, 7, 7, 7, 7, 7, 7, 7, 7, 7, 7, 7, 7, 7, 7, 7, 7, 7, 7, 7, 7, 7, 7, 7, 7, 7, 7, 7, 7, 7, 7, 7, 7, 7, 7, 7, 7, 7, 7, 7, 7, 7, 7, 7, 7, 7, 7, 7, 7, 7, 7, 7, 7, 7, 7, 7, 7, 7, 7, 7, 7, 7, 7, 7, 7, 7, 7, 7, 7, 7, 7, 7, 7, 7, 7, 7, 7, 7, 7, 7, 7, 7, 7, 7, 7, 7, 7, 7, 7, 7, 7, 7, 7, 7, 7, 7, 7, 7, 7, 7, 7, 7, 7, 7, 7, 7, 7, 7, 7, 7, 7, 7, 7, 7, 7, 7, 7, 7, 7, 7, 7, 7, 7, 7, 7, 7, 7, 7, 7, 7, 7, 7, 7, 7, 7, 7, 7, 7, 7, 7, 7, 7, 7, 7, 7, 7, 7, 7, 7, 7, 7, 7, 7, 7, 7, 7, 7, 7, 7, 7, 7, 7, 7, 7, 7, 7, 7, 7, 7, 7, 7, 7, 7, 7, 7, 7, 7, 7, 7, 7, 7, 7, 7, 7, 7, 7, 7, 7, 7, 7, 7, 7, 7, 7, 7, 7, 7, 7, 7, 7, 7, 7, 7, 7, 7, 7, 7, 7, 7, 7, 7, 7, 7, 7, 7, 7, 7, 7, 7, 7, 7, 7, 7, 7, 7, 7, 7, 7, 7, 7, 7, 7, 7, 7, 7, 7, 7, 7, 7, 7, 7, 7, 7, 7, 7, 7, 7, 7, 7, 7, 7, 7, 7, 7, 7, 7, 7, 7, 7, 7, 7, 7, 7, 7, 7, 7, 7, 7, 7, 7, 7, 7, 7, 7, 7, 7, 7, 7, 7, 7, 7, 7, 7, 7, 7, 7, 7, 7, 7, 7, 7, 7, 7, 7, 7, 7, 7, 7, 7, 7, 7, 7, 7, 7, 7, 7, 7, 7, 7, 7, 7, 7, 7, 7, 7, 7, 7, 7, 7, 7, 7, 7, 7, 7, 7, 7, 7, 7, 7, 7, 7, 7, 7, 7, 7, 7, 7, 7, 7, 7, 7, 7, 7, 7, 7, 7, 7, 7, 7, 7, 7, 7, 7, 7, 7, 7, 7, 7, 7, 7, 7, 7, 7, 7, 7, 7, 7, 7, 7, 7, 7, 7, 7, 7, 7, 7, 7, 7, 7, 7, 7, 7, 7, 7, 7, 7, 7, 7, 7, 7, 7, 7, 7, 7, 7, 7, 7, 7, 7, 7, 7, 7, 7, 7, 7, 7, 7, 7, 7, 7, 7, 7, 7, 7, 7, 7, 7, 7, 7, 7, 7, 7, 7, 7, 7, 7, 7, 7, 7, 7, 7, 7, 7, 7, 7, 7, 7, 7, 7, 7, 7, 7, 7, 7, 7, 7, 7, 7, 7, 7, 7, 7, 7, 7, 7, 7, 7, 7, 7, 7, 7, 7, 7, 7, 7, 7, 7, 7, 7, 7, 7, 7, 7, 7, 7, 7, 7, 7, 7, 7, 7, 7, 7, 7, 7, 7, 7, 7, 7, 7, 7, 7, 7, 7, 7, 7, 7, 7, 7, 7, 7, 7, 7, 7, 7, 7, 7, 7, 7, 7, 7, 7, 7, 7, 7, 7, 7, 7, 7, 7, 7, 7, 7, 7, 7, 7, 7, 7, 7, 7, 7, 7, 7, 7, 7, 7, 7, 7, 7, 7, 7, 7, 7, 7, 7, 7, 7, 7, 7, 7, 7, 7, 7, 7, 7, 7, 7, 7, 7, 7, 7, 7, 7, 7, 7, 7, 7, 7, 7, 7, 7, 7, 7, 7, 7, 7, 7, 7, 7, 7, 7, 7, 7, 7, 7, 7, 7, 7, 7, 7, 7, 7, 7, 7, 7, 7, 7, 7, 7, 7, 7, 7, 7, 7, 7, 7, 7, 7, 7, 7, 7, 7, 7, 7, 7, 7, 7, 7, 7, 7, 7, 7, 7, 7, 7, 7, 7, 7, 7, 7, 7, 7, 7, 7, 7, 7, 7, 7, 7, 7, 7, 7, 7, 7, 7, 7, 7, 7, 7, 7, 7, 7, 7, 7, 7, 7, 7, 7, 7, 7, 7, 7, 7, 7, 7, 7, 7, 7, 7, 7, 7, 7, 7, 7, 7, 7, 7, 7, 7, 7, 7, 7, 7, 7, 7, 7, 7, 7, 7, 7, 7, 7, 7, 7, 7, 7, 7, 7, 7, 7, 7, 7, 7, 7, 7, 7, 7, 7, 7, 7, 7, 7, 7, 7, 7, 7, 7, 7, 7, 7, 7, 7, 7, 7, 7, 7, 7, 7, 7, 7, 7, 7, 7, 7, 7, 7, 7, 7, 7, 7, 7, 7, 7, 7, 7, 7, 7, 7, 7, 7, 7, 7, 7, 7, 7, 7, 7, 7, 7, 7, 7, 7, 7, 7, 7, 7, 7, 7, 7, 7, 7, 7, 7, 7, 7, 7, 7, 7, 7, 7, 7, 7, 7, 7, 7, 7, 7, 7, 7, 7, 7, 7, 7, 7, 7, 7, 7, 7, 7, 7, 7, 7, 7, 7, 7, 7, 7, 7, 7, 7]\n",
      "Total missing values in the DataFrame: 58875\n"
     ]
    }
   ],
   "source": [
    "\n",
    "# Get the number of missing values and percentage\n",
    "missing_percentage = (df.isna().sum() / len(df)) * 100\n",
    "print(missing_percentage)\n",
    "\n",
    "# Assuming your DataFrame is named \"data\"\n",
    "missing_values = df.isna().sum()\n",
    "\n",
    "# To get the total number of missing values in the entire DataFrame\n",
    "total_missing_values = missing_values.sum()\n",
    "\n",
    "print(\"Missing values per column:\")\n",
    "print([x for x in missing_values if x!=0])\n",
    "print(\"Total missing values in the DataFrame:\", total_missing_values)\n"
   ]
  },
  {
   "cell_type": "code",
   "execution_count": 9,
   "id": "53b31215-910c-4a93-8da1-c52c948b538c",
   "metadata": {},
   "outputs": [],
   "source": [
    "\n",
    "# Check for columns with missing values\n",
    "columns_with_missing_values = df.columns[df.isna().any()].tolist()\n"
   ]
  },
  {
   "cell_type": "markdown",
   "id": "fc737fac-7e1b-4c96-ac2a-1c2788451351",
   "metadata": {},
   "source": [
    "## Data Cleaning"
   ]
  },
  {
   "cell_type": "code",
   "execution_count": 10,
   "id": "541739c2-8f70-4825-9221-7a2c1f0b24e4",
   "metadata": {},
   "outputs": [],
   "source": [
    "\n",
    "# Filling missing values with interpolation\n",
    "df = df.interpolate(method='linear', axis=0)\n"
   ]
  },
  {
   "cell_type": "code",
   "execution_count": 11,
   "id": "a60c8bb2-e7ce-4f98-8385-68e01755a63b",
   "metadata": {},
   "outputs": [
    {
     "name": "stdout",
     "output_type": "stream",
     "text": [
      "0\n",
      "[]\n"
     ]
    }
   ],
   "source": [
    "\n",
    "# Now we check if there's any missing data left\n",
    "missing_values = df.isna().sum()\n",
    "print(missing_values.sum())\n",
    "columns_with_missing_values = df.columns[df.isna().any()].tolist()\n",
    "print(columns_with_missing_values)\n"
   ]
  },
  {
   "cell_type": "code",
   "execution_count": 12,
   "id": "5e0d8328-495e-4bfb-bb71-bc1406c99c01",
   "metadata": {},
   "outputs": [
    {
     "data": {
      "text/plain": [
       "<bound method DataFrame.info of        1/1/2014      1/2/2014       1/3/2014      1/4/2014    1/5/2014  \\\n",
       "0           0.0  0.000000e+00       0.010000  0.000000e+00    0.000000   \n",
       "1           0.0  0.000000e+00       0.000000  0.000000e+00    0.000000   \n",
       "2           0.0  0.000000e+00       0.000000  0.000000e+00    0.000000   \n",
       "3           0.0  0.000000e+00       0.000000  0.000000e+00    0.000000   \n",
       "4           0.0  0.000000e+00       0.000000  0.000000e+00    0.000000   \n",
       "...         ...           ...            ...           ...         ...   \n",
       "77509    3318.0  3.992012e+06  355886.919680  2.821497e+06  164.236538   \n",
       "77510    3318.0  1.540747e+01      13.016436  6.808182e+00    9.975752   \n",
       "77511    3318.0  7.233658e+00       1.854659  5.471739e+00    4.491600   \n",
       "77512    3318.0  1.705002e-02       0.032311  1.302021e+00    1.220575   \n",
       "77513    3318.0  1.591562e+00       2.085901  4.065039e-01    0.944656   \n",
       "\n",
       "            1/6/2014      1/7/2014      1/8/2014      1/9/2014     1/10/2014  \\\n",
       "0           0.000000  0.000000e+00  0.000000e+00  0.000000e+00  0.000000e+00   \n",
       "1           0.000000  0.000000e+00  0.000000e+00  0.000000e+00  0.000000e+00   \n",
       "2           4.980000  9.870000e+00  1.129000e+01  1.344000e+01  1.134000e+01   \n",
       "3           0.000000  0.000000e+00  0.000000e+00  0.000000e+00  0.000000e+00   \n",
       "4           0.000000  0.000000e+00  0.000000e+00  0.000000e+00  0.000000e+00   \n",
       "...              ...           ...           ...           ...           ...   \n",
       "77509  840064.346819  4.873951e+06  4.362733e+06  1.148248e+06  7.495583e+06   \n",
       "77510      18.044573  1.874497e+01  0.000000e+00  0.000000e+00  7.630897e+01   \n",
       "77511       1.762649  2.942657e+00  3.138281e-01  0.000000e+00  0.000000e+00   \n",
       "77512       0.923291  2.949221e+00  2.241515e+00  3.432199e+00  2.561632e+00   \n",
       "77513       0.224998  6.311983e-01  1.368033e+00  1.218456e+00  1.686563e+00   \n",
       "\n",
       "       ...  10/23/2016  10/24/2016  10/25/2016  10/26/2016  10/27/2016  \\\n",
       "0      ...    0.830000    0.020000    0.060000    0.580000    0.890000   \n",
       "1      ...   23.910000   17.130000   14.320000   16.370000   26.330000   \n",
       "2      ...    1.436766    1.431531    1.430000    2.220000    2.410000   \n",
       "3      ...   19.500000   20.980000   18.470000   15.500000   14.800000   \n",
       "4      ...    2.590000    0.610000    1.330000    0.550000    1.620000   \n",
       "...    ...         ...         ...         ...         ...         ...   \n",
       "77509  ...    5.224120    1.080903    0.153084    4.198740    1.189800   \n",
       "77510  ...    3.648733    1.238024    1.105596    3.013575    1.646159   \n",
       "77511  ...    4.855439    3.169917    2.151124    2.940087    4.201608   \n",
       "77512  ...    0.441427    1.592641    2.328144    0.118047    0.045101   \n",
       "77513  ...    1.765196    0.909011    0.870360    1.850828    0.258208   \n",
       "\n",
       "       10/28/2016  10/29/2016  10/30/2016  10/31/2016  FLAG  \n",
       "0        0.350000    0.380000    0.700000    0.250000     1  \n",
       "1       19.060000   17.380000   13.940000   14.140000     1  \n",
       "2        3.480000    2.890000    1.880000    1.160000     1  \n",
       "3       19.280000   16.100000   17.510000   16.670000     1  \n",
       "4        1.530000    2.100000    1.160000    2.130000     1  \n",
       "...           ...         ...         ...         ...   ...  \n",
       "77509    6.535039    1.283416    2.551979    3.377330     1  \n",
       "77510    0.781674    2.405903    1.165101    4.020926     1  \n",
       "77511    3.076432    2.297145    3.379430    2.736797     1  \n",
       "77512    0.257065    2.427866    0.049198    0.379474     1  \n",
       "77513    3.651980    2.207567    0.461450    3.652529     1  \n",
       "\n",
       "[77514 rows x 1035 columns]>"
      ]
     },
     "execution_count": 12,
     "metadata": {},
     "output_type": "execute_result"
    }
   ],
   "source": [
    "\n",
    "df.info\n"
   ]
  },
  {
   "cell_type": "code",
   "execution_count": 13,
   "id": "eddf2ce4",
   "metadata": {},
   "outputs": [],
   "source": [
    "\n",
    "# Feature extraction (time and frequency domain)\n",
    "def extract_features(row):\n",
    "    time = row.values\n",
    "    freq = np.abs(fft(time))[:len(time)//2]\n",
    "    return pd.Series({\n",
    "        'energy_mean': time.mean(),\n",
    "        'energy_std': time.std(),\n",
    "        'energy_max': time.max(),\n",
    "        'energy_min': time.min(),\n",
    "        'energy_range': time.max() - time.min(),\n",
    "        'energy_freq_mean': freq.mean(),\n",
    "        'energy_freq_std': freq.std(),\n",
    "        'energy_freq_max': freq.max(),\n",
    "        'energy_freq_min': freq.min()\n",
    "    })\n",
    "\n",
    "features = df.apply(extract_features, axis=1)\n"
   ]
  },
  {
   "cell_type": "code",
   "execution_count": 14,
   "id": "3b3985d1-788d-4925-84dd-d1913a737159",
   "metadata": {},
   "outputs": [],
   "source": [
    "\n",
    "# Adding FLAG Column as Target\n",
    "features['FLAG'] = df['FLAG']\n"
   ]
  },
  {
   "cell_type": "code",
   "execution_count": 15,
   "id": "c6ff4a83-ed47-41a9-a888-6d82e8f21fd2",
   "metadata": {},
   "outputs": [
    {
     "name": "stdout",
     "output_type": "stream",
     "text": [
      "List of Extracted Features Dataset:\n",
      "['energy_mean', 'energy_std', 'energy_max', 'energy_min', 'energy_range', 'energy_freq_mean', 'energy_freq_std', 'energy_freq_max', 'energy_freq_min', 'FLAG']\n",
      "   energy_mean  energy_std  energy_max  energy_min  energy_range  \\\n",
      "0     0.951231    3.099215       18.29         0.0         18.29   \n",
      "1     4.312530    6.888938       44.57         0.0         44.57   \n",
      "2     8.719317    9.947823       79.71         0.0         79.71   \n",
      "3     3.776809    8.053526       40.98         0.0         40.98   \n",
      "4    73.737744   43.411340      399.40         0.0        399.40   \n",
      "\n",
      "   energy_freq_mean  energy_freq_std  energy_freq_max  energy_freq_min  FLAG  \n",
      "0         42.991075        99.887367       984.524059         0.388660     1  \n",
      "1         83.327368       284.178032      4463.468775         2.507727     1  \n",
      "2        212.764794       463.409287      9024.493428         4.580813     1  \n",
      "3         86.475023       298.784065      3908.997452         0.386808     1  \n",
      "4        830.986276      3539.446615     76318.565083        17.878990     1  \n"
     ]
    }
   ],
   "source": [
    "\n",
    "# Save and Preview\n",
    "# features.to_csv('../data/processed/extract_features_data.csv', index=False) #Uncomment to save file\n",
    "\n",
    "print(\"List of Extracted Features Dataset:\")\n",
    "print(features.columns.tolist())\n",
    "print(features.head())\n"
   ]
  },
  {
   "cell_type": "code",
   "execution_count": 16,
   "id": "30ef6849-b0e7-4f97-993a-4fa73089e247",
   "metadata": {},
   "outputs": [
    {
     "name": "stdout",
     "output_type": "stream",
     "text": [
      "<class 'pandas.core.frame.DataFrame'>\n",
      "RangeIndex: 77514 entries, 0 to 77513\n",
      "Data columns (total 10 columns):\n",
      " #   Column            Non-Null Count  Dtype  \n",
      "---  ------            --------------  -----  \n",
      " 0   energy_mean       77514 non-null  float64\n",
      " 1   energy_std        77514 non-null  float64\n",
      " 2   energy_max        77514 non-null  float64\n",
      " 3   energy_min        77514 non-null  float64\n",
      " 4   energy_range      77514 non-null  float64\n",
      " 5   energy_freq_mean  77514 non-null  float64\n",
      " 6   energy_freq_std   77514 non-null  float64\n",
      " 7   energy_freq_max   77514 non-null  float64\n",
      " 8   energy_freq_min   77514 non-null  float64\n",
      " 9   FLAG              77514 non-null  int64  \n",
      "dtypes: float64(9), int64(1)\n",
      "memory usage: 5.9 MB\n"
     ]
    }
   ],
   "source": [
    "\n",
    "features.info()\n"
   ]
  }
 ],
 "metadata": {
  "kernelspec": {
   "display_name": "Python 3 (ipykernel)",
   "language": "python",
   "name": "python3"
  },
  "language_info": {
   "codemirror_mode": {
    "name": "ipython",
    "version": 3
   },
   "file_extension": ".py",
   "mimetype": "text/x-python",
   "name": "python",
   "nbconvert_exporter": "python",
   "pygments_lexer": "ipython3",
   "version": "3.13.5"
  }
 },
 "nbformat": 4,
 "nbformat_minor": 5
}
