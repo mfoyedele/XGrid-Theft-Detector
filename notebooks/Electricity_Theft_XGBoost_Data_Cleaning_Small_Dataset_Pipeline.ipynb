{
 "cells": [
  {
   "cell_type": "markdown",
   "id": "d4b1203c",
   "metadata": {},
   "source": [
    "# Electricity Theft Detection with Real-Time Input using XGBoost"
   ]
  },
  {
   "cell_type": "markdown",
   "id": "0bb63643",
   "metadata": {},
   "source": [
    "\n",
    "This notebook implements an electricity theft detection pipeline based on the SGCC dataset, using XGBoost for dimensionality reduction. It includes support for:\n",
    "- Data cleaning and preprocessing\n",
    "- Synthetic data generation for class balancing\n",
    "- Feature extraction (time and frequency domain)\n",
    "- Hyperparameter tuning with Bayesian optimization\n",
    "- Real-time classification for new consumption records\n"
   ]
  },
  {
   "cell_type": "code",
   "execution_count": 1,
   "id": "9cad214b",
   "metadata": {},
   "outputs": [],
   "source": [
    "\n",
    "# !pip install pandas numpy scikit-learn tensorflow scikit-optimize matplotlib\n"
   ]
  },
  {
   "cell_type": "code",
   "execution_count": 2,
   "id": "b22e4828",
   "metadata": {},
   "outputs": [],
   "source": [
    "\n",
    "import pandas as pd\n",
    "import numpy as np\n",
    "import seaborn as sns\n",
    "import matplotlib.pyplot as plt\n",
    "\n",
    "from scipy.fft import fft\n",
    "from scipy.interpolate import PchipInterpolator\n",
    "from sklearn.model_selection import train_test_split\n",
    "from sklearn.decomposition import PCA\n",
    "from sklearn.metrics import classification_report, roc_auc_score\n",
    "from skopt import gp_minimize\n",
    "from sklearn.preprocessing import StandardScaler\n",
    "from skopt.space import Integer, Real\n",
    "from skopt.utils import use_named_args\n",
    "from imblearn.over_sampling import SMOTE\n"
   ]
  },
  {
   "cell_type": "code",
   "execution_count": 3,
   "id": "5b99092e",
   "metadata": {},
   "outputs": [],
   "source": [
    "\n",
    "# The original State Grid Corporation of China (SGCC) dataset used for training models in this project \n",
    "# contains 42,372 rows and 1,036 columns. It was utilized for extensive data cleaning and \n",
    "# feature selection to train the XGBoost model.\n",
    "\n",
    "# Due to its large size (~163 MB), it cannot be hosted directly on GitHub, \n",
    "# but it is available on Kaggle: https://www.kaggle.com/datasets/bensalem14/sgcc-dataset\n",
    "\n",
    "# For demonstration and preview purposes, this project uses a smaller version of the SGCC dataset  \n",
    "# named `datasetsmall.csv`, which contains 25,863 rows and 28 columns, and is approximately 3.8 MB in size.\n",
    "\n",
    "# Load the dataset\n",
    "df = pd.read_csv('../data/raw/datasetsmall.csv')  \n"
   ]
  },
  {
   "cell_type": "code",
   "execution_count": 4,
   "id": "6b638abf-92cc-46a2-8a7d-cc9576c4aabd",
   "metadata": {},
   "outputs": [],
   "source": [
    "\n",
    "# I will drop the CONS_NO column since it seems to provide no information as well as being of string type\n",
    "df = df.drop(\"CONS_NO\", axis=1)\n",
    "\n",
    "df = df[(df.iloc[:, 1:-1] != 0).any(axis=1)]\n",
    "\n",
    "def interpolate_row(row):\n",
    "    x = np.arange(len(row))\n",
    "    valid = ~row.isna()\n",
    "    if valid.sum() < 2:\n",
    "        return row\n",
    "    f = PchipInterpolator(x[valid], row[valid])\n",
    "    return pd.Series(f(x))\n",
    "\n",
    "usage_data = df.iloc[:, 1:-1]\n",
    "usage_data = usage_data.apply(interpolate_row, axis=1)\n",
    "df.iloc[:, 1:-1] = usage_data\n"
   ]
  },
  {
   "cell_type": "code",
   "execution_count": 5,
   "id": "aa77c7e9-485e-482e-9e85-ecf68ae9c2d4",
   "metadata": {},
   "outputs": [
    {
     "name": "stdout",
     "output_type": "stream",
     "text": [
      "Class distribution after addition:\n",
      "FLAG\n",
      "1    20227\n",
      "0    20227\n",
      "Name: count, dtype: int64\n"
     ]
    }
   ],
   "source": [
    "\n",
    "# Synthetic data generation for class balancing\n",
    "def generate_synthetic_samples(df_clean, target_col='FLAG'):\n",
    "    majority = df_clean[df_clean[target_col] == 0]\n",
    "    minority = df_clean[df_clean[target_col] == 1]\n",
    "    diff = len(majority) - len(minority)\n",
    "    if diff <= 0:\n",
    "        return df_clean\n",
    "    synthetic = majority.sample(n=diff, random_state=42).copy()\n",
    "    synthetic_data = synthetic.iloc[:, 1:-1].values * np.random.rand(diff, synthetic.shape[1] - 2)\n",
    "\n",
    "    synthetic_df = pd.DataFrame(synthetic_data, columns=synthetic.columns[1:-1])\n",
    "    synthetic_df['FLAG'] = 1\n",
    "    return pd.concat([df_clean, synthetic_df], ignore_index=True)\n",
    "\n",
    "df['FLAG'] = df['FLAG'].astype(int)\n",
    "df = generate_synthetic_samples(df)\n",
    "\n",
    "# --- Check Balance ---\n",
    "print(\"Class distribution after addition:\")\n",
    "print(df['FLAG'].value_counts())\n"
   ]
  },
  {
   "cell_type": "code",
   "execution_count": 6,
   "id": "b48e2ecd-5ef5-4e5c-8f92-0eb94fadfb11",
   "metadata": {},
   "outputs": [
    {
     "data": {
      "text/plain": [
       "<bound method DataFrame.info of        01/01/2014   01/02/2014   01/03/2014   01/04/2014   01/05/2014  \\\n",
       "0          2401.0  2500.000000  2674.000000  2432.000000  2231.000000   \n",
       "1          3318.0   282.000000   540.000000  5670.000000  4854.000000   \n",
       "2          1020.8  1097.400000  1377.400000  1408.800000  1414.800000   \n",
       "3             0.0  1183.800000  1190.400000  1183.800000     0.000000   \n",
       "4          1445.7  1348.200000  1281.900000  1276.350000  1219.950000   \n",
       "...           ...          ...          ...          ...          ...   \n",
       "40449         NaN     3.510679     0.433740     3.758012     2.334194   \n",
       "40450         NaN     0.325664     0.394699     0.260466     0.904283   \n",
       "40451         NaN     1.928383     2.446090     0.609735     0.740052   \n",
       "40452         NaN     3.465591     0.333872     3.113929     5.519036   \n",
       "40453         NaN     0.000000     0.000000     0.000000     0.000000   \n",
       "\n",
       "        01/06/2014   01/07/2014   01/08/2014   01/09/2014   01/10/2014  ...  \\\n",
       "0      1942.000000  2752.000000  1244.000000  2069.000000  2360.000000  ...   \n",
       "1      4170.000000  4848.000000  3546.000000  4416.000000  3966.000000  ...   \n",
       "2      1387.400000  1444.600000  1325.000000  1461.600000  1253.200000  ...   \n",
       "3      1154.400000  1166.400000  1183.800000  1169.400000  1174.200000  ...   \n",
       "4      1289.850000  1298.550000  1326.150000  1410.600000  1376.700000  ...   \n",
       "...            ...          ...          ...          ...          ...  ...   \n",
       "40449     2.233701     3.809009     3.443990     3.283901     3.284758  ...   \n",
       "40450     0.766617     0.960113     0.897737     0.344152     0.033989  ...   \n",
       "40451     1.819114     4.402102     2.975468     1.016376     4.167507  ...   \n",
       "40452     3.608552     4.952383     1.558706     6.482750     6.503348  ...   \n",
       "40453     0.000000     0.000000     0.000000     0.000000     0.000000  ...   \n",
       "\n",
       "         1/18/2014    1/19/2014    1/20/2014    1/21/2014    1/22/2014  \\\n",
       "0      2369.000000  1774.000000  2089.000000  1300.000000  2419.000000   \n",
       "1      3258.000000  3876.000000  3228.000000  3054.000000  3840.000000   \n",
       "2      1351.400000  1214.600000  1285.400000  1279.600000  1188.600000   \n",
       "3      1158.600000     0.000000  1072.800000  1090.800000  1090.200000   \n",
       "4      1398.600000  1331.850000  1392.900000  1213.200000  1463.100000   \n",
       "...            ...          ...          ...          ...          ...   \n",
       "40449     0.084703     4.303760     6.869710     1.042000     1.900981   \n",
       "40450     0.831698     0.604471     0.874207     0.645054     0.037810   \n",
       "40451     1.067108     2.923437     0.866456     3.321171     0.494345   \n",
       "40452     1.927083     5.967979     3.437235     4.190002     1.917900   \n",
       "40453     0.000000     0.000000     0.000000     0.000000     0.329785   \n",
       "\n",
       "         1/23/2014    1/24/2014    1/25/2014    1/26/2014  FLAG  \n",
       "0      2462.000000  1177.000000   340.000000  2272.000000     1  \n",
       "1      1422.000000  1956.000000  1380.000000    96.000000     1  \n",
       "2      1362.600000  1286.000000  1267.600000  1444.000000     1  \n",
       "3      1101.000000  1079.400000  1121.400000  1145.400000     0  \n",
       "4      1405.500000  1240.050000  1190.250000  1455.450000     1  \n",
       "...            ...          ...          ...          ...   ...  \n",
       "40449     7.020078     6.709591     5.839937     0.140192     1  \n",
       "40450     0.721959     0.468449     0.576869     0.256330     1  \n",
       "40451     0.054010     0.328577     0.618556     0.000000     1  \n",
       "40452     4.703738     3.774011     3.563680     0.895831     1  \n",
       "40453     0.000000     0.000000     0.000000     0.000000     1  \n",
       "\n",
       "[40454 rows x 27 columns]>"
      ]
     },
     "execution_count": 6,
     "metadata": {},
     "output_type": "execute_result"
    }
   ],
   "source": [
    "\n",
    "df.info\n"
   ]
  },
  {
   "cell_type": "code",
   "execution_count": 7,
   "id": "34508ce7-4db0-46c2-be57-0008d2aa14bb",
   "metadata": {},
   "outputs": [
    {
     "data": {
      "text/plain": [
       "FLAG\n",
       "1    20227\n",
       "0    20227\n",
       "Name: count, dtype: int64"
      ]
     },
     "execution_count": 7,
     "metadata": {},
     "output_type": "execute_result"
    }
   ],
   "source": [
    "\n",
    "# Check the number of instances of each class\n",
    "class_counts = df['FLAG'].value_counts()\n",
    "class_counts\n"
   ]
  },
  {
   "cell_type": "code",
   "execution_count": 8,
   "id": "d47cbdbe-5567-4bf9-b691-fea771235549",
   "metadata": {},
   "outputs": [
    {
     "data": {
      "text/plain": [
       "Text(0.5, 1.0, 'FLAG Imbalanced Distribution')"
      ]
     },
     "execution_count": 8,
     "metadata": {},
     "output_type": "execute_result"
    },
    {
     "data": {
      "image/png": "[encoded data removed]",
      "text/plain": [
       "<Figure size 640x480 with 1 Axes>"
      ]
     },
     "metadata": {},
     "output_type": "display_data"
    }
   ],
   "source": [
    "\n",
    "# Now having a balance label\n",
    "sns.countplot(x=df['FLAG'])\n",
    "plt.title('FLAG Imbalanced Distribution', fontsize=14)\n"
   ]
  },
  {
   "cell_type": "code",
   "execution_count": 9,
   "id": "edaccca6-57e2-43f4-bbec-f957da405e0d",
   "metadata": {},
   "outputs": [
    {
     "name": "stdout",
     "output_type": "stream",
     "text": [
      "01/01/2014    45.325555\n",
      "01/02/2014     0.000000\n",
      "01/03/2014     0.000000\n",
      "01/04/2014     0.000000\n",
      "01/05/2014     0.000000\n",
      "01/06/2014     0.000000\n",
      "01/07/2014     0.000000\n",
      "01/08/2014     0.000000\n",
      "01/09/2014     0.000000\n",
      "01/10/2014     0.000000\n",
      "01/11/2014     0.000000\n",
      "01/12/2014     0.000000\n",
      "1/13/2014      0.000000\n",
      "1/14/2014      0.000000\n",
      "1/15/2014      0.000000\n",
      "1/16/2014      0.000000\n",
      "1/17/2014      0.000000\n",
      "1/18/2014      0.000000\n",
      "1/19/2014      0.000000\n",
      "1/20/2014      0.000000\n",
      "1/21/2014      0.000000\n",
      "1/22/2014      0.000000\n",
      "1/23/2014      0.000000\n",
      "1/24/2014      0.000000\n",
      "1/25/2014      0.000000\n",
      "1/26/2014      0.000000\n",
      "FLAG           0.000000\n",
      "dtype: float64\n",
      "Missing values per column:\n",
      "[18336]\n",
      "Total missing values in the DataFrame: 18336\n"
     ]
    }
   ],
   "source": [
    "\n",
    "# Get the number of missing values and percentage\n",
    "missing_percentage = (df.isna().sum() / len(df)) * 100\n",
    "print(missing_percentage)\n",
    "\n",
    "# Assuming your DataFrame is named \"data\"\n",
    "missing_values = df.isna().sum()\n",
    "\n",
    "# To get the total number of missing values in the entire DataFrame\n",
    "total_missing_values = missing_values.sum()\n",
    "\n",
    "print(\"Missing values per column:\")\n",
    "print([x for x in missing_values if x!=0])\n",
    "print(\"Total missing values in the DataFrame:\", total_missing_values)\n"
   ]
  },
  {
   "cell_type": "code",
   "execution_count": 10,
   "id": "53b31215-910c-4a93-8da1-c52c948b538c",
   "metadata": {},
   "outputs": [],
   "source": [
    "\n",
    "# Check for columns with missing values\n",
    "columns_with_missing_values = df.columns[df.isna().any()].tolist()\n"
   ]
  },
  {
   "cell_type": "markdown",
   "id": "fc737fac-7e1b-4c96-ac2a-1c2788451351",
   "metadata": {},
   "source": [
    "## Data Cleaning"
   ]
  },
  {
   "cell_type": "code",
   "execution_count": 11,
   "id": "541739c2-8f70-4825-9221-7a2c1f0b24e4",
   "metadata": {},
   "outputs": [],
   "source": [
    "\n",
    "# Filling missing values with interpolation\n",
    "df = df.interpolate(method='linear', axis=0)\n"
   ]
  },
  {
   "cell_type": "code",
   "execution_count": 12,
   "id": "a60c8bb2-e7ce-4f98-8385-68e01755a63b",
   "metadata": {},
   "outputs": [
    {
     "name": "stdout",
     "output_type": "stream",
     "text": [
      "0\n",
      "[]\n"
     ]
    }
   ],
   "source": [
    "\n",
    "# Now we check if there's any missing data left\n",
    "missing_values = df.isna().sum()\n",
    "print(missing_values.sum())\n",
    "columns_with_missing_values = df.columns[df.isna().any()].tolist()\n",
    "print(columns_with_missing_values)\n"
   ]
  },
  {
   "cell_type": "code",
   "execution_count": 13,
   "id": "5e0d8328-495e-4bfb-bb71-bc1406c99c01",
   "metadata": {},
   "outputs": [
    {
     "data": {
      "text/plain": [
       "<bound method DataFrame.info of        01/01/2014   01/02/2014   01/03/2014   01/04/2014   01/05/2014  \\\n",
       "0          2401.0  2500.000000  2674.000000  2432.000000  2231.000000   \n",
       "1          3318.0   282.000000   540.000000  5670.000000  4854.000000   \n",
       "2          1020.8  1097.400000  1377.400000  1408.800000  1414.800000   \n",
       "3             0.0  1183.800000  1190.400000  1183.800000     0.000000   \n",
       "4          1445.7  1348.200000  1281.900000  1276.350000  1219.950000   \n",
       "...           ...          ...          ...          ...          ...   \n",
       "40449         0.0     3.510679     0.433740     3.758012     2.334194   \n",
       "40450         0.0     0.325664     0.394699     0.260466     0.904283   \n",
       "40451         0.0     1.928383     2.446090     0.609735     0.740052   \n",
       "40452         0.0     3.465591     0.333872     3.113929     5.519036   \n",
       "40453         0.0     0.000000     0.000000     0.000000     0.000000   \n",
       "\n",
       "        01/06/2014   01/07/2014   01/08/2014   01/09/2014   01/10/2014  ...  \\\n",
       "0      1942.000000  2752.000000  1244.000000  2069.000000  2360.000000  ...   \n",
       "1      4170.000000  4848.000000  3546.000000  4416.000000  3966.000000  ...   \n",
       "2      1387.400000  1444.600000  1325.000000  1461.600000  1253.200000  ...   \n",
       "3      1154.400000  1166.400000  1183.800000  1169.400000  1174.200000  ...   \n",
       "4      1289.850000  1298.550000  1326.150000  1410.600000  1376.700000  ...   \n",
       "...            ...          ...          ...          ...          ...  ...   \n",
       "40449     2.233701     3.809009     3.443990     3.283901     3.284758  ...   \n",
       "40450     0.766617     0.960113     0.897737     0.344152     0.033989  ...   \n",
       "40451     1.819114     4.402102     2.975468     1.016376     4.167507  ...   \n",
       "40452     3.608552     4.952383     1.558706     6.482750     6.503348  ...   \n",
       "40453     0.000000     0.000000     0.000000     0.000000     0.000000  ...   \n",
       "\n",
       "         1/18/2014    1/19/2014    1/20/2014    1/21/2014    1/22/2014  \\\n",
       "0      2369.000000  1774.000000  2089.000000  1300.000000  2419.000000   \n",
       "1      3258.000000  3876.000000  3228.000000  3054.000000  3840.000000   \n",
       "2      1351.400000  1214.600000  1285.400000  1279.600000  1188.600000   \n",
       "3      1158.600000     0.000000  1072.800000  1090.800000  1090.200000   \n",
       "4      1398.600000  1331.850000  1392.900000  1213.200000  1463.100000   \n",
       "...            ...          ...          ...          ...          ...   \n",
       "40449     0.084703     4.303760     6.869710     1.042000     1.900981   \n",
       "40450     0.831698     0.604471     0.874207     0.645054     0.037810   \n",
       "40451     1.067108     2.923437     0.866456     3.321171     0.494345   \n",
       "40452     1.927083     5.967979     3.437235     4.190002     1.917900   \n",
       "40453     0.000000     0.000000     0.000000     0.000000     0.329785   \n",
       "\n",
       "         1/23/2014    1/24/2014    1/25/2014    1/26/2014  FLAG  \n",
       "0      2462.000000  1177.000000   340.000000  2272.000000     1  \n",
       "1      1422.000000  1956.000000  1380.000000    96.000000     1  \n",
       "2      1362.600000  1286.000000  1267.600000  1444.000000     1  \n",
       "3      1101.000000  1079.400000  1121.400000  1145.400000     0  \n",
       "4      1405.500000  1240.050000  1190.250000  1455.450000     1  \n",
       "...            ...          ...          ...          ...   ...  \n",
       "40449     7.020078     6.709591     5.839937     0.140192     1  \n",
       "40450     0.721959     0.468449     0.576869     0.256330     1  \n",
       "40451     0.054010     0.328577     0.618556     0.000000     1  \n",
       "40452     4.703738     3.774011     3.563680     0.895831     1  \n",
       "40453     0.000000     0.000000     0.000000     0.000000     1  \n",
       "\n",
       "[40454 rows x 27 columns]>"
      ]
     },
     "execution_count": 13,
     "metadata": {},
     "output_type": "execute_result"
    }
   ],
   "source": [
    "\n",
    "df.info\n"
   ]
  },
  {
   "cell_type": "code",
   "execution_count": 14,
   "id": "eddf2ce4",
   "metadata": {},
   "outputs": [],
   "source": [
    "\n",
    "# Feature extraction (time and frequency domain)\n",
    "def extract_features(row):\n",
    "    time = row.values\n",
    "    freq = np.abs(fft(time))[:len(time)//2]\n",
    "    return pd.Series({\n",
    "        'energy_mean': time.mean(),\n",
    "        'energy_std': time.std(),\n",
    "        'energy_max': time.max(),\n",
    "        'energy_min': time.min(),\n",
    "        'energy_range': time.max() - time.min(),\n",
    "        'energy_freq_mean': freq.mean(),\n",
    "        'energy_freq_std': freq.std(),\n",
    "        'energy_freq_max': freq.max(),\n",
    "        'energy_freq_min': freq.min()\n",
    "    })\n",
    "\n",
    "features = df.apply(extract_features, axis=1)\n"
   ]
  },
  {
   "cell_type": "code",
   "execution_count": 15,
   "id": "3b3985d1-788d-4925-84dd-d1913a737159",
   "metadata": {},
   "outputs": [],
   "source": [
    "\n",
    "# Adding FLAG Column as Target\n",
    "features['FLAG'] = df['FLAG']\n"
   ]
  },
  {
   "cell_type": "code",
   "execution_count": 16,
   "id": "c6ff4a83-ed47-41a9-a888-6d82e8f21fd2",
   "metadata": {},
   "outputs": [
    {
     "name": "stdout",
     "output_type": "stream",
     "text": [
      "List of Extracted Features Dataset:\n",
      "['energy_mean', 'energy_std', 'energy_max', 'energy_min', 'energy_range', 'energy_freq_mean', 'energy_freq_std', 'energy_freq_max', 'energy_freq_min', 'FLAG']\n",
      "   energy_mean   energy_std  energy_max  energy_min  energy_range  \\\n",
      "0  1905.814815   788.927638      3167.0         1.0        3166.0   \n",
      "1  2957.814815  1570.545837      5670.0         1.0        5669.0   \n",
      "2  1271.037037   279.840431      1540.6         1.0        1539.6   \n",
      "3   976.288889   409.031138      1228.2         0.0        1228.2   \n",
      "4  1245.309259   272.800880      1463.1         1.0        1462.1   \n",
      "\n",
      "   energy_freq_mean  energy_freq_std  energy_freq_max  energy_freq_min  FLAG  \n",
      "0       7303.433795     12813.027901         51457.00      1408.488504     1  \n",
      "1      12885.852090     19824.938177         79861.00      1351.763789     1  \n",
      "2       3953.022031      8773.101764         34318.00       640.274832     1  \n",
      "3       3945.153948      6508.896557         26359.80      1089.908966     0  \n",
      "4       3771.660868      8635.286592         33623.35        99.310882     1  \n"
     ]
    }
   ],
   "source": [
    "\n",
    "# Save and Preview\n",
    "# features.to_csv('../data/processed/extract_features_data.csv', index=False) #Uncomment to save file\n",
    "\n",
    "print(\"List of Extracted Features Dataset:\")\n",
    "print(features.columns.tolist())\n",
    "print(features.head())\n"
   ]
  },
  {
   "cell_type": "code",
   "execution_count": 17,
   "id": "30ef6849-b0e7-4f97-993a-4fa73089e247",
   "metadata": {},
   "outputs": [
    {
     "name": "stdout",
     "output_type": "stream",
     "text": [
      "<class 'pandas.core.frame.DataFrame'>\n",
      "RangeIndex: 40454 entries, 0 to 40453\n",
      "Data columns (total 10 columns):\n",
      " #   Column            Non-Null Count  Dtype  \n",
      "---  ------            --------------  -----  \n",
      " 0   energy_mean       40454 non-null  float64\n",
      " 1   energy_std        40454 non-null  float64\n",
      " 2   energy_max        40454 non-null  float64\n",
      " 3   energy_min        40454 non-null  float64\n",
      " 4   energy_range      40454 non-null  float64\n",
      " 5   energy_freq_mean  40454 non-null  float64\n",
      " 6   energy_freq_std   40454 non-null  float64\n",
      " 7   energy_freq_max   40454 non-null  float64\n",
      " 8   energy_freq_min   40454 non-null  float64\n",
      " 9   FLAG              40454 non-null  int64  \n",
      "dtypes: float64(9), int64(1)\n",
      "memory usage: 3.1 MB\n"
     ]
    }
   ],
   "source": [
    "\n",
    "features.info()\n"
   ]
  }
 ],
 "metadata": {
  "kernelspec": {
   "display_name": "Python 3 (ipykernel)",
   "language": "python",
   "name": "python3"
  },
  "language_info": {
   "codemirror_mode": {
    "name": "ipython",
    "version": 3
   },
   "file_extension": ".py",
   "mimetype": "text/x-python",
   "name": "python",
   "nbconvert_exporter": "python",
   "pygments_lexer": "ipython3",
   "version": "3.13.5"
  }
 },
 "nbformat": 4,
 "nbformat_minor": 5
}
